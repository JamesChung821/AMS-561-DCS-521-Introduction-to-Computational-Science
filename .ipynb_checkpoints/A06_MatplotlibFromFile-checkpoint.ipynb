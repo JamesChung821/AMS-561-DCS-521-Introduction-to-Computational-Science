{
 "cells": [
  {
   "cell_type": "markdown",
   "metadata": {},
   "source": [
    "### Plotting data from a file\n",
    "\n",
    "Download the files `sintest4` and `sintest4-d`\n",
    "\n",
    "1) Look at the files --- the first line is a comment that includes the label of each field separated by a space.  The data follows in columns.  The first column `x` is the independent variable.  The subsequent columns are all functions of `x`.\n",
    "\n",
    "2) Write a Python function that given a filename and a number `n` (=0, 1, 2, ...) reads that column of data from the file.\n",
    "\n",
    "3) Using a separate figure for each file, plot the contents of each file (all columnns from a file on the same figure), with a legend, axis labels and a title (use the filename) for the figure.\n",
    "\n",
    "4) Column number 1 (i.e., the second column) contains the exact answer and most interesting would be plotting the error (i.e., the difference between the other columns (n=2,3,...) and column 1).  Plot the errors for both files.\n",
    "\n",
    "5) Instead of having two separate figures, I would like to have both plots in the same figure, nicely arranged one above the other."
   ]
  },
  {
   "cell_type": "code",
   "execution_count": null,
   "metadata": {
    "collapsed": true
   },
   "outputs": [],
   "source": [
    "f = open('sintest4', 'r')\n",
    "for line in f:\n",
    "    l"
   ]
  }
 ],
 "metadata": {
  "kernelspec": {
   "display_name": "Python 3 (ipykernel)",
   "language": "python",
   "name": "python3"
  },
  "language_info": {
   "codemirror_mode": {
    "name": "ipython",
    "version": 3
   },
   "file_extension": ".py",
   "mimetype": "text/x-python",
   "name": "python",
   "nbconvert_exporter": "python",
   "pygments_lexer": "ipython3",
   "version": "3.9.7"
  }
 },
 "nbformat": 4,
 "nbformat_minor": 2
}
