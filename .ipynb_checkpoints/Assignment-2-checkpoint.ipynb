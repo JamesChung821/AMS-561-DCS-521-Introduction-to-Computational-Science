{
 "cells": [
  {
   "cell_type": "markdown",
   "metadata": {
    "id": "jlnOU1p7p1qE"
   },
   "source": [
    "# Analyzing data in files using basic Python and the Python CSV module\n",
    "\n",
    "For this homework, unless told otherwise, **please don't** use Python modules such as Pandas --- the goal is to practice using basic Python and data structures.  We will start using these other modules later in the course.\n",
    "\n",
    "## 1.  Computing and displaying the frequency of words and letters in text\n",
    "\n",
    "This question is intended for your practice using dictionaries and learning about `collections.defaultdict`.\n",
    "\n",
    "We will again use \"allswell.txt\" to provide the data.   \n",
    "\n",
    "\n",
    "### 1.a Write a function that \n",
    "\n",
    "1. takes a string as an argument, \n",
    "2. replaces with a space any character that is not a lowercase letter, and \n",
    "3. returns a new string\n",
    "\n",
    "Test it on the string \n",
    "```\n",
    "'once more unto the breach, dear friends, once more;'\n",
    "``` \n",
    "\n",
    "It should return \n",
    "\n",
    "``` \n",
    "'once more unto the breach  dear friends  once more '\n",
    "```"
   ]
  },
  {
   "cell_type": "code",
   "execution_count": 16,
   "metadata": {
    "colab": {
     "base_uri": "https://localhost:8080/"
    },
    "executionInfo": {
     "elapsed": 130,
     "status": "ok",
     "timestamp": 1644900786866,
     "user": {
      "displayName": "Cheng-Chu Chung",
      "photoUrl": "https://lh3.googleusercontent.com/a-/AOh14Gjjk6SqeMpTHVe4ITb3MezIB6-5WeNNKG3w1LsD=s64",
      "userId": "17774558080259118332"
     },
     "user_tz": 300
    },
    "id": "ExqfvwxIp1qI",
    "outputId": "2624e6c6-3906-43fe-de1c-bb3eca53c211"
   },
   "outputs": [
    {
     "name": "stdout",
     "output_type": "stream",
     "text": [
      "once more unto the breach  dear friends  once more \n"
     ]
    }
   ],
   "source": [
    "def replace_space(character):\n",
    "  sentance = ''\n",
    "  for ch in character:\n",
    "    sentance += ch if ch.islower() else ' '\n",
    "  return sentance\n",
    "\n",
    "string = 'once more unto the breach, dear friends, once more;'\n",
    "print(replace_space(string))\n"
   ]
  },
  {
   "cell_type": "markdown",
   "metadata": {
    "id": "T9k6LZUup1qI"
   },
   "source": [
    "### 1.b Count the number of times each word and letter character appears in `allswell.txt` \n",
    "\n",
    "\n",
    "We did something like this in class, but now we want to be more intelligent about how we distinguish words and handle punctuation and mixed case.\n",
    "* when you read a line of text immediately convert it to lowercase so that \n",
    "  1. you don't end up with words/letters that differ just by case, and\n",
    "  2. when comparing characters you don't have to worry about their case\n",
    "* before splitting into words use the function you just wrote to remove characaters that are not letters or space \n",
    "\n",
    "Print out the number of distinct words and characters.\n",
    "\n",
    "[Aside: You could try to use the `collections.defaultdict` but using the usual python dictionary is OK too.]"
   ]
  },
  {
   "cell_type": "code",
   "execution_count": 3,
   "metadata": {
    "colab": {
     "base_uri": "https://localhost:8080/",
     "height": 189
    },
    "executionInfo": {
     "elapsed": 150,
     "status": "error",
     "timestamp": 1644901048271,
     "user": {
      "displayName": "Cheng-Chu Chung",
      "photoUrl": "https://lh3.googleusercontent.com/a-/AOh14Gjjk6SqeMpTHVe4ITb3MezIB6-5WeNNKG3w1LsD=s64",
      "userId": "17774558080259118332"
     },
     "user_tz": 300
    },
    "id": "M6-7UvYop1qJ",
    "outputId": "2cedaf40-0ade-4bec-ebb0-ba422e61faad"
   },
   "outputs": [
    {
     "name": "stdout",
     "output_type": "stream",
     "text": [
      "[\"SCENE I. Rousillon. The COUNT's palace.\\n\", '\\n', 'Enter BERTRAM, the COUNTESS of Rousillon, HELENA, and LAFEU, all in black\\n', 'COUNTESS\\n', 'In delivering my son from me, I bury a second husband.\\n', 'BERTRAM\\n', \"And I in going, madam, weep o'er my father's death\\n\", \"anew: but I must attend his majesty's command, to\\n\", 'whom I am now in ward, evermore in subjection.\\n', 'LAFEU\\n', 'You shall find of the king a husband, madam; you,\\n', 'sir, a father: he that so generally is at all times\\n', 'good must of necessity hold his virtue to you; whose\\n', 'worthiness would stir it up where it wanted rather\\n', 'than lack it where there is such abundance.\\n', 'COUNTESS\\n', \"What hope is there of his majesty's amendment?\\n\", 'LAFEU\\n', 'He hath abandoned his physicians, madam; under whose\\n', 'practises he hath persecuted time with hope, and\\n', 'finds no other advantage in the process but only the\\n', 'losing of hope by time.\\n', 'COUNTESS\\n', 'This young gentlewoman had a father,--O, that\\n', \"'had'! how sad a passage 'tis!--whose skill was\\n\", 'almost as great as his honesty; had it stretched so\\n', 'far, would have made nature immortal, and death\\n', 'should have play for lack of work. Would, for the\\n', \"king's sake, he were living! I think it would be\\n\", \"the death of the king's disease.\\n\", 'LAFEU\\n', 'How called you the man you speak of, madam?\\n', 'COUNTESS\\n', 'He was famous, sir, in his profession, and it was\\n', 'his great right to be so: Gerard de Narbon.\\n', 'LAFEU\\n', 'He was excellent indeed, madam: the king very\\n', 'lately spoke of him admiringly and mourningly: he\\n', 'was skilful enough to have lived still, if knowledge\\n', 'could be set up against mortality.\\n', 'BERTRAM\\n', 'What is it, my good lord, the king languishes of?\\n', 'LAFEU\\n', 'A fistula, my lord.\\n', 'BERTRAM\\n', 'I heard not of it before.\\n', 'LAFEU\\n', 'I would it were not notorious. Was this gentlewoman\\n', 'the daughter of Gerard de Narbon?\\n', 'COUNTESS\\n', 'His sole child, my lord, and bequeathed to my\\n', 'overlooking. I have those hopes of her good that\\n', 'her education promises; her dispositions she\\n', 'inherits, which makes fair gifts fairer; for where\\n', 'an unclean mind carries virtuous qualities, there\\n', 'commendations go with pity; they are virtues and\\n', 'traitors too; in her they are the better for their\\n', 'simpleness; she derives her honesty and achieves her goodness.\\n', 'LAFEU\\n', 'Your commendations, madam, get from her tears.\\n', 'COUNTESS\\n', \"'Tis the best brine a maiden can season her praise\\n\", 'in. The remembrance of her father never approaches\\n', 'her heart but the tyranny of her sorrows takes all\\n', 'livelihood from her cheek. No more of this, Helena;\\n', 'go to, no more; lest it be rather thought you affect\\n', 'a sorrow than have it.\\n', 'HELENA\\n', 'I do affect a sorrow indeed, but I have it too.\\n', 'LAFEU\\n', 'Moderate lamentation is the right of the dead,\\n', 'excessive grief the enemy to the living.\\n', 'COUNTESS\\n', 'If the living be enemy to the grief, the excess\\n', 'makes it soon mortal.\\n', 'BERTRAM\\n', 'Madam, I desire your holy wishes.\\n', 'LAFEU\\n', 'How understand we that?\\n', 'COUNTESS\\n', 'Be thou blest, Bertram, and succeed thy father\\n', 'In manners, as in shape! thy blood and virtue\\n', 'Contend for empire in thee, and thy goodness\\n', 'Share with thy birthright! Love all, trust a few,\\n', 'Do wrong to none: be able for thine enemy\\n', 'Rather in power than use, and keep thy friend\\n', \"Under thy own life's key: be cheque'd for silence,\\n\", \"But never tax'd for speech. What heaven more will,\\n\", 'That thee may furnish and my prayers pluck down,\\n', 'Fall on thy head! Farewell, my lord;\\n', \"'Tis an unseason'd courtier; good my lord,\\n\", 'Advise him.\\n', 'LAFEU\\n', 'He cannot want the best\\n', 'That shall attend his love.\\n', 'COUNTESS\\n', 'Heaven bless him! Farewell, Bertram.\\n', 'Exit\\n', '\\n', 'BERTRAM\\n', '[To HELENA] The best wishes that can be forged in\\n', 'your thoughts be servants to you! Be comfortable\\n', 'to my mother, your mistress, and make much of her.\\n', 'LAFEU\\n', 'Farewell, pretty lady: you must hold the credit of\\n', 'your father.\\n', 'Exeunt BERTRAM and LAFEU\\n', '\\n', 'HELENA\\n', 'O, were that all! I think not on my father;\\n', 'And these great tears grace his remembrance more\\n', 'Than those I shed for him. What was he like?\\n', 'I have forgot him: my imagination\\n', \"Carries no favour in't but Bertram's.\\n\", 'I am undone: there is no living, none,\\n', \"If Bertram be away. 'Twere all one\\n\", 'That I should love a bright particular star\\n', 'And think to wed it, he is so above me:\\n', 'In his bright radiance and collateral light\\n', 'Must I be comforted, not in his sphere.\\n', 'The ambition in my love thus plagues itself:\\n', 'The hind that would be mated by the lion\\n', \"Must die for love. 'Twas pretty, though plague,\\n\", 'To see him every hour; to sit and draw\\n', 'His arched brows, his hawking eye, his curls,\\n', \"In our heart's table; heart too capable\\n\", 'Of every line and trick of his sweet favour:\\n', \"But now he's gone, and my idolatrous fancy\\n\", 'Must sanctify his reliques. Who comes here?\\n', 'Enter PAROLLES\\n', '\\n', 'Aside\\n', '\\n', 'One that goes with him: I love him for his sake;\\n', 'And yet I know him a notorious liar,\\n', 'Think him a great way fool, solely a coward;\\n', 'Yet these fixed evils sit so fit in him,\\n', \"That they take place, when virtue's steely bones\\n\", \"Look bleak i' the cold wind: withal, full oft we see\\n\", 'Cold wisdom waiting on superfluous folly.\\n', 'PAROLLES\\n', 'Save you, fair queen!\\n', 'HELENA\\n', 'And you, monarch!\\n', 'PAROLLES\\n', 'No.\\n', 'HELENA\\n', 'And no.\\n', 'PAROLLES\\n', 'Are you meditating on virginity?\\n', 'HELENA\\n', 'Ay. You have some stain of soldier in you: let me\\n', 'ask you a question. Man is enemy to virginity; how\\n', 'may we barricado it against him?\\n', 'PAROLLES\\n', 'Keep him out.\\n', 'HELENA\\n', 'But he assails; and our virginity, though valiant,\\n', 'in the defence yet is weak: unfold to us some\\n', 'warlike resistance.\\n', 'PAROLLES\\n', 'There is none: man, sitting down before you, will\\n', 'undermine you and blow you up.\\n', 'HELENA\\n', 'Bless our poor virginity from underminers and\\n', 'blowers up! Is there no military policy, how\\n', 'virgins might blow up men?\\n', 'PAROLLES\\n', 'Virginity being blown down, man will quicklier be\\n', 'blown up: marry, in blowing him down again, with\\n', 'the breach yourselves made, you lose your city. It\\n', 'is not politic in the commonwealth of nature to\\n', 'preserve virginity. Loss of virginity is rational\\n', 'increase and there was never virgin got till\\n', 'virginity was first lost. That you were made of is\\n', 'metal to make virgins. Virginity by being once lost\\n', 'may be ten times found; by being ever kept, it is\\n', \"ever lost: 'tis too cold a companion; away with 't!\\n\", 'HELENA\\n', \"I will stand for 't a little, though therefore I die a virgin.\\n\", 'PAROLLES\\n', \"There's little can be said in 't; 'tis against the\\n\", 'rule of nature. To speak on the part of virginity,\\n', 'is to accuse your mothers; which is most infallible\\n', 'disobedience. He that hangs himself is a virgin:\\n', 'virginity murders itself and should be buried in\\n', 'highways out of all sanctified limit, as a desperate\\n', 'offendress against nature. Virginity breeds mites,\\n', 'much like a cheese; consumes itself to the very\\n', 'paring, and so dies with feeding his own stomach.\\n', 'Besides, virginity is peevish, proud, idle, made of\\n', 'self-love, which is the most inhibited sin in the\\n', 'canon. Keep it not; you cannot choose but loose\\n', \"by't: out with 't! within ten year it will make\\n\", 'itself ten, which is a goodly increase; and the\\n', \"principal itself not much the worse: away with 't!\\n\", 'HELENA\\n', 'How might one do, sir, to lose it to her own liking?\\n', 'PAROLLES\\n', \"Let me see: marry, ill, to like him that ne'er it\\n\", \"likes. 'Tis a commodity will lose the gloss with\\n\", \"lying; the longer kept, the less worth: off with 't\\n\", \"while 'tis vendible; answer the time of request.\\n\", 'Virginity, like an old courtier, wears her cap out\\n', 'of fashion: richly suited, but unsuitable: just\\n', 'like the brooch and the tooth-pick, which wear not\\n', 'now. Your date is better in your pie and your\\n', 'porridge than in your cheek; and your virginity,\\n', 'your old virginity, is like one of our French\\n', 'withered pears, it looks ill, it eats drily; marry,\\n', \"'tis a withered pear; it was formerly better;\\n\", \"marry, yet 'tis a withered pear: will you anything with it?\\n\", 'HELENA\\n', 'Not my virginity yet [ ]\\n', 'There shall your master have a thousand loves,\\n', 'A mother and a mistress and a friend,\\n', 'A phoenix, captain and an enemy,\\n', 'A guide, a goddess, and a sovereign,\\n', 'A counsellor, a traitress, and a dear;\\n', 'His humble ambition, proud humility,\\n', 'His jarring concord, and his discord dulcet,\\n', 'His faith, his sweet disaster; with a world\\n', 'Of pretty, fond, adoptious christendoms,\\n', 'That blinking Cupid gossips. Now shall he--\\n', 'I know not what he shall. God send him well!\\n', \"The court's a learning place, and he is one--\\n\", 'PAROLLES\\n', \"What one, i' faith?\\n\", 'HELENA\\n', \"That I wish well. 'Tis pity--\\n\", 'PAROLLES\\n', \"What's pity?\\n\", 'HELENA\\n', \"That wishing well had not a body in't,\\n\", 'Which might be felt; that we, the poorer born,\\n', 'Whose baser stars do shut us up in wishes,\\n', 'Might with effects of them follow our friends,\\n', 'And show what we alone must think, which never\\n', 'Return us thanks.\\n', 'Enter Page\\n', '\\n', 'Page\\n', 'Monsieur Parolles, my lord calls for you.\\n', 'Exit\\n', '\\n', 'PAROLLES\\n', 'Little Helen, farewell; if I can remember thee, I\\n', 'will think of thee at court.\\n', 'HELENA\\n', 'Monsieur Parolles, you were born under a charitable star.\\n', 'PAROLLES\\n', 'Under Mars, I.\\n', 'HELENA\\n', 'I especially think, under Mars.\\n', 'PAROLLES\\n', 'Why under Mars?\\n', 'HELENA\\n', 'The wars have so kept you under that you must needs\\n', 'be born under Mars.\\n', 'PAROLLES\\n', 'When he was predominant.\\n', 'HELENA\\n', 'When he was retrograde, I think, rather.\\n', 'PAROLLES\\n', 'Why think you so?\\n', 'HELENA\\n', 'You go so much backward when you fight.\\n', 'PAROLLES\\n', \"That's for advantage.\\n\", 'HELENA\\n', 'So is running away, when fear proposes the safety;\\n', 'but the composition that your valour and fear makes\\n', 'in you is a virtue of a good wing, and I like the wear well.\\n', 'PAROLLES\\n', 'I am so full of businesses, I cannot answer thee\\n', 'acutely. I will return perfect courtier; in the\\n', 'which, my instruction shall serve to naturalize\\n', \"thee, so thou wilt be capable of a courtier's\\n\", 'counsel and understand what advice shall thrust upon\\n', 'thee; else thou diest in thine unthankfulness, and\\n', 'thine ignorance makes thee away: farewell. When\\n', 'thou hast leisure, say thy prayers; when thou hast\\n', 'none, remember thy friends; get thee a good husband,\\n', 'and use him as he uses thee; so, farewell.\\n', 'Exit\\n', '\\n', 'HELENA\\n', 'Our remedies oft in ourselves do lie,\\n', 'Which we ascribe to heaven: the fated sky\\n', 'Gives us free scope, only doth backward pull\\n', 'Our slow designs when we ourselves are dull.\\n', 'What power is it which mounts my love so high,\\n', 'That makes me see, and cannot feed mine eye?\\n', 'The mightiest space in fortune nature brings\\n', 'To join like likes and kiss like native things.\\n', 'Impossible be strange attempts to those\\n', 'That weigh their pains in sense and do suppose\\n', 'What hath been cannot be: who ever strove\\n', 'So show her merit, that did miss her love?\\n', \"The king's disease--my project may deceive me,\\n\", \"But my intents are fix'd and will not leave me.\\n\", 'Exit\\n']\n"
     ]
    }
   ],
   "source": [
    "f = open('allswell.txt', 'r')\n",
    "print(f.readlines())\n"
   ]
  },
  {
   "cell_type": "markdown",
   "metadata": {
    "id": "74CIj67Gp1qJ"
   },
   "source": [
    "### 1.c Make a list of the word counts (i.e., how many times each word appears), sort it in decreasing order and plot the data using a bar chart\n",
    "\n",
    "This is an example of a long-tailed distribution - there are many words that are individually infrequently used, but collectively they are responsible for a lot of the words used."
   ]
  },
  {
   "cell_type": "code",
   "execution_count": null,
   "metadata": {
    "id": "pcvxvdKrp1qJ"
   },
   "outputs": [],
   "source": []
  },
  {
   "cell_type": "markdown",
   "metadata": {
    "id": "Gxoo5rw-p1qJ"
   },
   "source": [
    "For those of you wanting a slightly harder problem, print out the words in order of decreasing frequency. If you don't want to do it, then read my solutions and insert comments on how they work.\n",
    "\n",
    "I give two solutions below assuming the dictionary you made containing the word counts is called `word_counts`, but there are several ways of doing it.  The second approach is rather advanced - look in the documentation for `sorted` (https://docs.python.org/3/library/functions.html#sorted) to see if you can understand it - I don't expect everyone should at this point."
   ]
  },
  {
   "cell_type": "code",
   "execution_count": null,
   "metadata": {
    "id": "ngQUBAgfp1qK"
   },
   "outputs": [],
   "source": [
    "import collections\n",
    "count_to_words = collections.defaultdict(list)\n",
    "for word in word_counts:\n",
    "    count_to_words[word_counts[word]].append(word)\n",
    "\n",
    "for count in sorted(count_to_words,reverse=True):\n",
    "    print(\"% 4d\" % count, count_to_words[count])\n",
    "\n",
    "# Uncomment this to run the second solution\n",
    "#for word in sorted(word_counts, key=word_counts.__getitem__, reverse=True):\n",
    "#    print(\"%10s %d\" % (word,word_counts[word]))"
   ]
  },
  {
   "cell_type": "markdown",
   "metadata": {
    "id": "6L8HVu70p1qL"
   },
   "source": [
    "## 2.  Using Python to analyze a CSV file\n",
    "\n",
    "Again, **please do this section with basic Python instead of an existing Python module.**\n",
    "\n",
    "The data we are using is (an older version) taken from https://catalog.data.gov/dataset/demographic-statistics-by-zip-code.\n",
    "\n",
    "A CSV (comma-separated values) file is a table written out with one row per line.  Within each line, values are separated by commas.  Often the first row (and perhaps the first column) are interpreted as headers or labels.\n",
    "\n",
    "Download from the Blackboard assignment page the file `'Demographic_Statistics_By_Zip_Code.csv'` --- have a look at it using either a text editor (or if you prefer you could try importing it into a spread sheet program like Excel).\n",
    "\n",
    "The headings for each column of data in the file (i.e., the first line in the file) are\n",
    "\n",
    "```\n",
    "JURISDICTION NAME,COUNT PARTICIPANTS,COUNT FEMALE,PERCENT FEMALE,COUNT MALE,PERCENT MALE,COUNT GENDER UNKNOWN,PERCENT GENDER UNKNOWN,COUNT GENDER TOTAL,PERCENT GENDER TOTAL,COUNT PACIFIC ISLANDER,PERCENT PACIFIC ISLANDER,COUNT HISPANIC LATINO,PERCENT HISPANIC LATINO,COUNT AMERICAN INDIAN,PERCENT AMERICAN INDIAN,COUNT ASIAN NON HISPANIC,PERCENT ASIAN NON HISPANIC,COUNT WHITE NON HISPANIC,PERCENT WHITE NON HISPANIC,COUNT BLACK NON HISPANIC,PERCENT BLACK NON HISPANIC,COUNT OTHER ETHNICITY,PERCENT OTHER ETHNICITY,COUNT ETHNICITY UNKNOWN,PERCENT ETHNICITY UNKNOWN,COUNT ETHNICITY TOTAL,PERCENT ETHNICITY TOTAL,COUNT PERMANENT RESIDENT ALIEN,PERCENT PERMANENT RESIDENT ALIEN,COUNT US CITIZEN,PERCENT US CITIZEN,COUNT OTHER CITIZEN STATUS,PERCENT OTHER CITIZEN STATUS,COUNT CITIZEN STATUS UNKNOWN,PERCENT CITIZEN STATUS UNKNOWN,COUNT CITIZEN STATUS TOTAL,PERCENT CITIZEN STATUS TOTAL,COUNT RECEIVES PUBLIC ASSISTANCE,PERCENT RECEIVES PUBLIC ASSISTANCE,COUNT NRECEIVES PUBLIC ASSISTANCE,PERCENT NRECEIVES PUBLIC ASSISTANCE,COUNT PUBLIC ASSISTANCE UNKNOWN,PERCENT PUBLIC ASSISTANCE UNKNOWN,COUNT PUBLIC ASSISTANCE TOTAL,PERCENT PUBLIC ASSISTANCE TOTAL\n",
    "```\n",
    "\n",
    "### 2.a.  Write a function to extract the column of data from the file corresponding to a given heading\n",
    "\n",
    "E.g., given `'JURISDICTION NAME`` return a list containing all of the zip codes\n",
    "\n",
    "* Raise a `ValueError` exception if the heading is not found\n",
    "\n",
    "* Since in this file all of the data (except for headings) are numbers, please return a list of floats (not strings).\n",
    "\n",
    "Test it on `'JURISDICTION NAME'` and `'COUNT PARTICIPANTS'` as well as on a heading that does not exist.\n"
   ]
  },
  {
   "cell_type": "code",
   "execution_count": null,
   "metadata": {
    "id": "V8pBFmnAp1qL"
   },
   "outputs": [],
   "source": []
  },
  {
   "cell_type": "markdown",
   "metadata": {
    "id": "zQ_N3ugcp1qM"
   },
   "source": [
    "### 2.b.  Now you are armed to explore the data!\n",
    "\n",
    "Which zip code has the most males?\n",
    "\n",
    "Which zip code has the most permanent resident aliens?\n",
    "\n",
    "What are the max, min, mean, median, mode and variance of the `'COUNT AMERICAN INDIAN'`? Hint: remember the statistics module?"
   ]
  },
  {
   "cell_type": "code",
   "execution_count": null,
   "metadata": {
    "id": "1qxqKuzmp1qM"
   },
   "outputs": [],
   "source": []
  },
  {
   "cell_type": "markdown",
   "metadata": {
    "id": "l2E6woYlp1qM"
   },
   "source": [
    "### 2.c  Making scatter plots\n",
    "\n",
    "We can visually explore (non-quantitatively) correlations between two quantities by making a scatter plot which takes two vector of data (e,g, x and y) plots each pair of values as a point (don't connect the points with lines).\n",
    "\n",
    "Let's look to see what's correlated with the number of people on public assistance.\n",
    "\n",
    "First, we might expect that the number of people on assistance would increase with the total number of people.  So, to test this expectation, please make a scatter plot of `'COUNT RECEIVES PUBLIC ASSISTANCE'` (y-axis) against `'COUNT PARTICIPANTS'`."
   ]
  },
  {
   "cell_type": "code",
   "execution_count": null,
   "metadata": {
    "id": "dZOnC78mp1qM"
   },
   "outputs": [],
   "source": []
  },
  {
   "cell_type": "markdown",
   "metadata": {
    "id": "NukESBbAp1qM"
   },
   "source": [
    "This visually supports the expected correlation.\n",
    "\n",
    "Make a figure with 4 subplots showing the correlation of 'COUNT RECEIVES PUBLIC ASSISTANCE' with each of 'PERCENT HISPANIC LATINO', 'PERCENT BLACK NON HISPANIC', 'PERCENT US CITIZEN' and 'PERCENT ASIAN NON HISPANIC'.  Don't forget to label the axes, make sure the plots don't overlap (hint: read about tight layout), and that the text is readable (hint: font size and perhaps a strategic new line)."
   ]
  },
  {
   "cell_type": "code",
   "execution_count": null,
   "metadata": {
    "id": "ssgXzlGCp1qN"
   },
   "outputs": [],
   "source": []
  },
  {
   "cell_type": "markdown",
   "metadata": {
    "id": "W3B5zxUBp1qN"
   },
   "source": [
    "## 3.  Using Python's CSV module to analyze a CSV file\n",
    "\n",
    "Please use the Python CSV module to complete this section.\n",
    "\n",
    "* https://docs.python.org/3/library/csv.html\n",
    "\n",
    "### 3.a.  Use Python's CSV module to print out each record in the data file, numbering each line\n",
    "\n",
    "E.g., the first few lines of your output should look something like\n",
    "```\n",
    "   0 ['JURISDICTION NAME', 'COUNT PARTICIPANTS', 'COUNT FEMALE', etc.]\n",
    "   1 ['10001', '44', '22', '0.5', '22', '0.5', '0', '0', '44', etc.]\n",
    "   2 ['10002', '35', '19', '0.54', '16', '0.46', '0', '0', etc.]\n",
    "   etc.\n",
    "```\n"
   ]
  },
  {
   "cell_type": "code",
   "execution_count": null,
   "metadata": {
    "id": "hdKNchzKp1qN"
   },
   "outputs": [],
   "source": []
  },
  {
   "cell_type": "markdown",
   "metadata": {
    "id": "o1ONOf8vp1qO"
   },
   "source": [
    "From the above, you should now see how to use the CSV module to process a CSV file.  Each line immediately becomes a list that you can easily process.  As the documentation indicates, the CSV module can handle many/most of the weird different formats called CSV.  Thus, you should prefer using it to writing your own code (as we did above for Python practice).\n",
    "\n",
    "### 3.b.  Let's write a CSV file using the Python CSV module\n",
    "\n",
    "Write out a new CSV file called `'mydata.csv'` containing just the columns 'JURISDICTION NAME', 'COUNT PARTICIPANTS', 'COUNT FEMALE', 'COUNT MALE', and 'COUNT RECEIVES PUBLIC ASSISTANCE', and only for the zip codes 10024, 10025, 10026, and 10027.\n",
    "\n",
    "* Note: you should close your file once you are finished writing so that all of the output is flushed to disk."
   ]
  },
  {
   "cell_type": "code",
   "execution_count": null,
   "metadata": {
    "id": "6LYgNcmzp1qO"
   },
   "outputs": [],
   "source": []
  },
  {
   "cell_type": "markdown",
   "metadata": {
    "id": "N2ZYutpWp1qO"
   },
   "source": [
    "### 3.c.  Print the new CSV file you created just as you did the full file in 3.a\n",
    "\n"
   ]
  },
  {
   "cell_type": "code",
   "execution_count": null,
   "metadata": {
    "id": "gw1YWP0yp1qO"
   },
   "outputs": [],
   "source": []
  }
 ],
 "metadata": {
  "anaconda-cloud": {},
  "colab": {
   "name": "Assignment-2.ipynb",
   "provenance": []
  },
  "kernelspec": {
   "display_name": "Python 3 (ipykernel)",
   "language": "python",
   "name": "python3"
  },
  "language_info": {
   "codemirror_mode": {
    "name": "ipython",
    "version": 3
   },
   "file_extension": ".py",
   "mimetype": "text/x-python",
   "name": "python",
   "nbconvert_exporter": "python",
   "pygments_lexer": "ipython3",
   "version": "3.9.7"
  }
 },
 "nbformat": 4,
 "nbformat_minor": 1
}
