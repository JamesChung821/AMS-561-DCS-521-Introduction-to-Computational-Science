{
 "cells": [
  {
   "cell_type": "markdown",
   "metadata": {},
   "source": [
    "# Turtle graphics\n",
    "\n",
    "Objective: have fun while exploring use of loops, conditionals, functions, and building an application up from scratch\n",
    "\n",
    "* http://www.eg.bucknell.edu/~hyde/Python3/TurtleDirections.html\n",
    "* https://docs.python.org/3/library/turtle.html\n",
    "* http://www.vivaxsolutions.com/web/python-turtle.aspx nice examples\n"
   ]
  },
  {
   "cell_type": "code",
   "execution_count": 14,
   "metadata": {},
   "outputs": [
    {
     "name": "stdout",
     "output_type": "stream",
     "text": [
      "3391 0.3391\n"
     ]
    }
   ],
   "source": [
    "# This version uses no graphics\n",
    "from random import randint\n",
    "\n",
    "nsample = 10000 # fast without graphics so use more samples to get better stats\n",
    "\n",
    "nalive = 0\n",
    "for sample in range(nsample):\n",
    "    y = 0\n",
    "    while True:\n",
    "        y += randint(-10,10)\n",
    "        if y > 100:\n",
    "            alive = False\n",
    "            break\n",
    "        elif y < -200:\n",
    "            alive = True\n",
    "            break\n",
    "    if alive:\n",
    "        nalive += 1\n",
    "print(nalive, nalive/nsample)"
   ]
  },
  {
   "cell_type": "code",
   "execution_count": 1,
   "metadata": {},
   "outputs": [],
   "source": [
    "#%gui tk # this seems to no longer be needed, and indeed be detrimental\n",
    "%gui inline\n",
    "from turtle import *\n",
    "forward(3)"
   ]
  },
  {
   "cell_type": "markdown",
   "metadata": {},
   "source": [
    "Play!  Just see what happens.  No actual turtles will be hurt."
   ]
  },
  {
   "cell_type": "code",
   "execution_count": 2,
   "metadata": {},
   "outputs": [],
   "source": [
    "left(90)\n",
    "forward(100)"
   ]
  },
  {
   "cell_type": "code",
   "execution_count": 3,
   "metadata": {},
   "outputs": [],
   "source": [
    "speed(1)         # Lowest speed\n",
    "goto(0,200)      # Draws a square (pen is down by default)\n",
    "goto(200,200)\n",
    "goto(200,0)\n",
    "goto(0,0)"
   ]
  },
  {
   "cell_type": "markdown",
   "metadata": {},
   "source": [
    "What will this do?  Play with the values"
   ]
  },
  {
   "cell_type": "code",
   "execution_count": 4,
   "metadata": {},
   "outputs": [],
   "source": [
    "reset()\n",
    "for i in range(100):\n",
    "    forward(15)\n",
    "    left(10)"
   ]
  },
  {
   "cell_type": "markdown",
   "metadata": {},
   "source": [
    "What about this?  Play with the values"
   ]
  },
  {
   "cell_type": "code",
   "execution_count": null,
   "metadata": {},
   "outputs": [],
   "source": [
    "reset()\n",
    "for i in range(200):\n",
    "    forward(i*0.7)\n",
    "    left(10)"
   ]
  },
  {
   "cell_type": "markdown",
   "metadata": {},
   "source": [
    "What about this?  Play with the values"
   ]
  },
  {
   "cell_type": "code",
   "execution_count": null,
   "metadata": {},
   "outputs": [],
   "source": [
    "reset()\n",
    "speed(0)\n",
    "for i in range(1000):\n",
    "    forward(10)\n",
    "    left(i%90)"
   ]
  },
  {
   "cell_type": "markdown",
   "metadata": {
    "collapsed": true
   },
   "source": [
    "One last example"
   ]
  },
  {
   "cell_type": "code",
   "execution_count": null,
   "metadata": {},
   "outputs": [],
   "source": [
    "# Dragon curve from \n",
    "# https://gist.github.com/fogleman/006e4069348fa163b8ae\n",
    "reset()\n",
    "hideturtle()\n",
    "speed(0)\n",
    "def turn(i):\n",
    "    left = (((i & -i) << 1) & i) != 0\n",
    "    return 'L' if left else 'R'\n",
    "\n",
    "i = 1\n",
    "while i<10000:\n",
    "    if turn(i) == 'L':\n",
    "        circle(-4, 90, 36)\n",
    "    else:\n",
    "        circle(4, 90, 36)\n",
    "    i += 1   "
   ]
  },
  {
   "cell_type": "code",
   "execution_count": null,
   "metadata": {},
   "outputs": [],
   "source": []
  },
  {
   "cell_type": "markdown",
   "metadata": {},
   "source": [
    "What about this random walk?"
   ]
  },
  {
   "cell_type": "code",
   "execution_count": 5,
   "metadata": {},
   "outputs": [],
   "source": [
    "reset() # clears the graphics and moves turtle to the origin\n",
    "speed(9)\n",
    "from random import randint\n",
    "for i in range(200):\n",
    "    forward(randint(0,15))\n",
    "    left(randint(-60,60))"
   ]
  },
  {
   "cell_type": "markdown",
   "metadata": {},
   "source": [
    "Think that is not very useful?  Tell that to Tim (or look at https://en.wikipedia.org/wiki/Random_walk). \n",
    "Your job is to tell Tim if he should think seriously about moving (or sobering up).\n",
    "\n",
    "Tim is walking home, but is inadvisably very inebriated and cannot walk in a straight line.  Friends are waiting for him just 200 meters south of the pub he just left.  Ufortunately, there is a deep canal just 100 meters north of the pub.\n",
    "\n",
    "What is the probability of Tim getting home alive?\n",
    "\n",
    "Actual scientific applications include\n",
    "* Brownian motion of particles in liquid\n",
    "* Random sampling to compute in high dimensions\n",
    "* Many-body physics and chemistry\n",
    "\n",
    "Restating the problem:\n",
    "* Run 20 random walks each starting from the origin\n",
    "  - if the `y` cooordinate exceeds 100, increment the number of times he drowned, and start the next random walk\n",
    "  - if the `y` coordinate is less (more negative) than -200, increment the number of times he made it home and start the next walk\n",
    "* Estimate the survival probability as `num_got_home / (num_got_home + num_died)`\n",
    "  \n",
    "First here's a function to draw lines for home and the canal.  We will examine functions in detail in the near future."
   ]
  },
  {
   "cell_type": "code",
   "execution_count": 6,
   "metadata": {},
   "outputs": [],
   "source": [
    "def draw_lines():\n",
    "    penup()\n",
    "    goto(-400,-200)\n",
    "    pendown()\n",
    "    goto(400,-200)\n",
    "    penup()\n",
    "    goto(-400,100)\n",
    "    pendown()\n",
    "    goto(400,100)\n",
    "    penup()\n",
    "    goto(0,0)\n",
    "    pendown()\n",
    "\n",
    "draw_lines()"
   ]
  },
  {
   "cell_type": "markdown",
   "metadata": {},
   "source": [
    "Now you can actually simulate Tim's walk home on 20 different nights\n",
    "\n",
    "Break the problem into steps:\n",
    "1. Copy the above code for the random walk and modify it to end (break) the walk when we know that Tim is either alive or dead.\n",
    "2. Draw the lines at the start of the calculation\n",
    "2. Put a loop around this random walk code to repeat it 20 times (to avoid wasting time you might start with just 2 repetitions).\n",
    "3. Fix any graphics problems so we can see what is going on.\n",
    "4. Insert code to capture statistics (no. of times lived or died) and print the stats out.\n",
    "\n",
    "**Incremental transformation:** Golden approach to writing a complex piece of code and avoiding eons of debugging. \n",
    "1. Start with something (very) simple that you can easily get working correctly.\n",
    "2. Make (very) small changes that you understand and test it carefully.\n",
    "3. Save before making the next change so that if you make an mistake you can always go back to a working version.\n"
   ]
  },
  {
   "cell_type": "code",
   "execution_count": 8,
   "metadata": {},
   "outputs": [
    {
     "name": "stdout",
     "output_type": "stream",
     "text": [
      "Is he alive? False\n",
      "Is he alive? False\n",
      "Is he alive? False\n",
      "Is he alive? True\n",
      "Is he alive? True\n",
      "Is he alive? False\n",
      "Is he alive? True\n",
      "Is he alive? True\n",
      "Is he alive? False\n",
      "Is he alive? False\n",
      "Is he alive? False\n",
      "Is he alive? False\n",
      "Is he alive? False\n",
      "Is he alive? False\n",
      "Is he alive? False\n",
      "Is he alive? False\n",
      "Is he alive? False\n",
      "Is he alive? False\n",
      "Is he alive? False\n",
      "Is he alive? True\n",
      "5 0.25\n"
     ]
    }
   ],
   "source": [
    "nsample = 20\n",
    "nalive = 0\n",
    "for sample in range(nsample):\n",
    "    reset() # clears the graphics and moves turtle to the origin\n",
    "    draw_lines()\n",
    "    speed(9)\n",
    "    from random import randint\n",
    "    while True:\n",
    "        forward(randint(0,15))\n",
    "        left(randint(-60,60))\n",
    "        y = ycor()\n",
    "        if y > 100:\n",
    "            alive = False\n",
    "            break\n",
    "        elif y < -200:\n",
    "            alive = True\n",
    "            break\n",
    "    print(\"Is he alive?\", alive)\n",
    "    if alive:\n",
    "        nalive += 1\n",
    "print(nalive, nalive/nsample)"
   ]
  },
  {
   "cell_type": "markdown",
   "metadata": {},
   "source": [
    "Tim needs your help!"
   ]
  }
 ],
 "metadata": {
  "anaconda-cloud": {},
  "kernelspec": {
   "display_name": "Python 3 (ipykernel)",
   "language": "python",
   "name": "python3"
  },
  "language_info": {
   "codemirror_mode": {
    "name": "ipython",
    "version": 3
   },
   "file_extension": ".py",
   "mimetype": "text/x-python",
   "name": "python",
   "nbconvert_exporter": "python",
   "pygments_lexer": "ipython3",
   "version": "3.9.7"
  }
 },
 "nbformat": 4,
 "nbformat_minor": 1
}
