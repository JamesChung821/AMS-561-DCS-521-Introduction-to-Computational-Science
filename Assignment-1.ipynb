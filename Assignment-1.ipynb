{
 "cells": [
  {
   "cell_type": "markdown",
   "metadata": {},
   "source": [
    "# Using dictionaries and lists to explore social networks\n",
    "\n",
    "If this is your first time programming this first homework might seem hard since you are learning so many basic skills --- **but don't panic!**  We will go through the start of this assignment in class, and to get maximum help you should fully utilize the Blackboard discussion forum, office hours, and the informal recitation.  \n",
    "\n",
    "Working in a group is fine --- <a href=\"https://www.agilealliance.org/glossary/pairing\" target=\"_blank\">pair programming</a> is a thing. However, please submit independent answers to questions instead of verbatim copying each others content. \n",
    "\n",
    "***Summary:*** To practice using Python data structures we will use some simple approaches to represent and explore a social network.  Of course computing with such networks is big business, so there's lots of professional-quality software out there to compute with networks and graphs --- when doing your research you will use such tools.  However, the objective here is to practice lists, dictionaries, algorithms, for loops, Python builtins, and coding, so we will write some simple software ourselves.\n",
    "\n",
    "We have a class of 50 people and we want to\n",
    "* easily check if someone is in the class or not\n",
    "* easily look up someone's nationality\n",
    "* count the number of each nationality\n",
    "* make some fake data to test our software\n",
    "* count the number of friends each person has\n",
    "* compute statistics (min/max/mean/median) on the number of friends\n",
    "  - in total, and\n",
    "  - by nationality (American or international)\n",
    "* determine how many handshakes each person is away from knowing Robert\n",
    "* print out the results in an organized and readable manner\n",
    "\n",
    "\n",
    "First, **execute** the following cell to define a list named `members` containing the names of all class members."
   ]
  },
  {
   "cell_type": "code",
   "execution_count": 40,
   "metadata": {},
   "outputs": [
    {
     "name": "stdout",
     "output_type": "stream",
     "text": [
      "['Arnetta', 'Thomasena', 'Tammera', 'Chen', 'Lorene', 'Ajinder', 'Wen', 'Carletta', 'Mathew', 'Kum', 'Preston', 'Charlene', 'Wilson', 'Kathryne', 'Ariel', 'Shawn', 'Mei', 'Coralie', 'Kenna', 'Robert', 'Bethel', 'Marc', 'Ferdinand', 'Rico', 'Anne', 'Inderjeet', 'Tamiko', 'Dominque', 'Dian', 'Loraine', 'Sharen', 'Onie', 'Temeka', 'Ceola', 'Cherly', 'Samual', 'Leeanne', 'Rosamond', 'Arianna', 'Calandra', 'Panav', 'Jenelle', 'Luisa', 'Desiree', 'Krista', 'Sun', 'Angella', 'Estela', 'Gudrun', 'Maryrose']\n"
     ]
    }
   ],
   "source": [
    "members = [\"Arnetta\",\"Thomasena\",\"Tammera\",\"Chen\",\"Lorene\",\"Ajinder\",\"Wen\",\"Carletta\",\"Mathew\",\"Kum\",\"Preston\",\"Charlene\",\"Wilson\",\"Kathryne\",\"Ariel\",\"Shawn\",\"Mei\",\"Coralie\",\"Kenna\",\"Robert\",\"Bethel\",\"Marc\",\"Ferdinand\",\"Rico\",\"Anne\",\"Inderjeet\",\"Tamiko\",\"Dominque\",\"Dian\",\"Loraine\",\"Sharen\",\"Onie\",\"Temeka\",\"Ceola\",\"Cherly\",\"Samual\",\"Leeanne\",\"Rosamond\",\"Arianna\",\"Calandra\",\"Panav\",\"Jenelle\",\"Luisa\",\"Desiree\",\"Krista\",\"Sun\",\"Angella\",\"Estela\",\"Gudrun\",\"Maryrose\"];\n",
    "print(members)"
   ]
  },
  {
   "cell_type": "markdown",
   "metadata": {},
   "source": [
    "### Problem 1a\n",
    "Write a one-line Python test to print if there is someone called \"Luisa\" is in the class or not.  \n",
    "\n",
    "What about \"Mark\" ?\n",
    "\n",
    "Verify your code is producing the correct answers by looking at the list."
   ]
  },
  {
   "cell_type": "code",
   "execution_count": 32,
   "metadata": {},
   "outputs": [
    {
     "name": "stdout",
     "output_type": "stream",
     "text": [
      "Luisa\n",
      "No Mark\n"
     ]
    }
   ],
   "source": [
    "print('Luisa' if 'Luisa' in members else 'No Luisa')\n",
    "# 'Mark' in members\n",
    "print('Mark' if 'Mark' in members else 'No Mark')"
   ]
  },
  {
   "cell_type": "markdown",
   "metadata": {},
   "source": [
    "### Problem 1b\n",
    "Write short piece of Python to print the number of times the name \"Gudrun\" appears in the list of class members."
   ]
  },
  {
   "cell_type": "code",
   "execution_count": 5,
   "metadata": {},
   "outputs": [
    {
     "name": "stdout",
     "output_type": "stream",
     "text": [
      "Number of times: 1\n"
     ]
    }
   ],
   "source": [
    "count = 0\n",
    "for member in members:\n",
    "    if member =='Gudrun':\n",
    "        count += 1\n",
    "print('Number of times:', count)"
   ]
  },
  {
   "cell_type": "code",
   "execution_count": 6,
   "metadata": {},
   "outputs": [
    {
     "name": "stdout",
     "output_type": "stream",
     "text": [
      "1\n"
     ]
    }
   ],
   "source": [
    "print(members.count('Gudrun'))"
   ]
  },
  {
   "cell_type": "markdown",
   "metadata": {},
   "source": [
    "### Problem 2\n",
    "\n",
    "For this project it is important that each name is unique.\n",
    "\n",
    "Verify that no name is repeated in `members` by writing some code that prints `\"Seems OK\"` if no name is repeated, or prints out a name if it is repeated.\n",
    "\n",
    "(Hint: can you use your answer to Q1 a or b as a building block?)\n",
    "\n",
    "You can test your code actually detects repeats by introducing a repeated name --- ***Don't forget to remove the repeated entry before proceeding with the next steps***"
   ]
  },
  {
   "cell_type": "code",
   "execution_count": 41,
   "metadata": {},
   "outputs": [
    {
     "name": "stdout",
     "output_type": "stream",
     "text": [
      "Seems OK\n"
     ]
    }
   ],
   "source": [
    "name_list = []\n",
    "no_repeated = True\n",
    "for name in members:\n",
    "    if name not in name_list:\n",
    "        name_list.append(name)\n",
    "    else:\n",
    "        print('Repeated name:', name)\n",
    "        no_repeated = False\n",
    "if no_repeated:\n",
    "    print('Seems OK')\n"
   ]
  },
  {
   "cell_type": "code",
   "execution_count": null,
   "metadata": {},
   "outputs": [],
   "source": []
  },
  {
   "cell_type": "markdown",
   "metadata": {},
   "source": [
    "**Execute** the following cell to define the list of nationalities (A=American, I=International) of everyone in the class."
   ]
  },
  {
   "cell_type": "code",
   "execution_count": 57,
   "metadata": {},
   "outputs": [],
   "source": [
    "nationalities = ['A','A', 'A', 'I', 'I', 'I', 'I', 'I', 'A', 'I', 'A', 'A', 'A', 'A', 'I', 'A', 'I', 'I', 'A', 'I', 'A', 'A', 'I', 'I', 'I', 'I', 'A', 'I', 'I', 'I', 'I', 'A', 'A', 'A', 'I', 'A', 'A', 'I', 'A', 'A', 'I', 'A', 'I', 'A', 'A', 'I', 'A', 'A', 'A', 'A']"
   ]
  },
  {
   "cell_type": "code",
   "execution_count": null,
   "metadata": {},
   "outputs": [],
   "source": []
  },
  {
   "cell_type": "markdown",
   "metadata": {},
   "source": [
    "### Problem 3\n",
    "\n",
    "Perform basic sanity tests\n",
    "* verify the lists of members and nationalities are the same length, and \n",
    "* verify the nationalities are only either \"A\" or \"I\" (anything else is an error which should be reported)\n",
    "\n",
    "Again, test your code by inserting an incorrect nationality into the list (and don't forget to remove it before proceeding)."
   ]
  },
  {
   "cell_type": "code",
   "execution_count": 58,
   "metadata": {},
   "outputs": [
    {
     "name": "stdout",
     "output_type": "stream",
     "text": [
      "The same length\n",
      "Only A or I exists\n"
     ]
    }
   ],
   "source": [
    "print('The same length' if len(members) == len(nationalities) else 'Different length')\n",
    "for ch in nationalities:\n",
    "    if ch != 'A' and ch != 'I':\n",
    "        print('Error')\n",
    "        break\n",
    "else:\n",
    "    print('Only A or I exists')"
   ]
  },
  {
   "cell_type": "markdown",
   "metadata": {},
   "source": [
    "### Problem 4\n",
    "\n",
    "What are the number of Americans and International students in the class? "
   ]
  },
  {
   "cell_type": "code",
   "execution_count": 60,
   "metadata": {},
   "outputs": [
    {
     "name": "stdout",
     "output_type": "stream",
     "text": [
      "The number of Americans: 27\n",
      "The number of International students: 23\n"
     ]
    }
   ],
   "source": [
    "Americans = 0\n",
    "International_students = 0\n",
    "for student in nationalities:\n",
    "    if student == 'A':\n",
    "        Americans += 1\n",
    "    elif student == 'I':\n",
    "        International_students += 1\n",
    "print('The number of Americans:', Americans)\n",
    "print('The number of International students:', International_students)"
   ]
  },
  {
   "cell_type": "markdown",
   "metadata": {},
   "source": [
    "### Problem 5\n",
    "\n",
    "Write some code to print the nationality of \"Bethel\".\n",
    "\n",
    "Hint: look again at documentation for the sequence member functions."
   ]
  },
  {
   "cell_type": "code",
   "execution_count": 61,
   "metadata": {},
   "outputs": [
    {
     "name": "stdout",
     "output_type": "stream",
     "text": [
      "20 Bethel A\n"
     ]
    }
   ],
   "source": [
    "position = members.index('Bethel')\n",
    "print(position, members[position], nationalities[position])"
   ]
  },
  {
   "cell_type": "markdown",
   "metadata": {},
   "source": [
    "Mmmm ... that was a little clunky and not intuitive, and if we had 1 million people probably very slow. Let's find a better way to lookup the nationality.\n",
    "\n",
    "We want to associate each person with a nationality.  This is what a dictionary (also called an associative array or a map) does.\n",
    "\n",
    "### Problem 6\n",
    "\n",
    "Make a dictionary named `nationality` that maps from names to nationalities.  I.e., so that\n",
    "```\n",
    "nationality[name]\n",
    "```\n",
    "would look up the nationality associated with `name`.\n",
    "\n",
    "There's lots of ways to do this - try to come up with at least two.  Can U do it in 1 line of code?  Can you do it with no loops?  Note that readable code is always better than hard to understand shorter code, and working code is definitely better than no code at all!\n",
    "\n",
    "If you have multiple solutions, verify they give the same results."
   ]
  },
  {
   "cell_type": "code",
   "execution_count": 29,
   "metadata": {},
   "outputs": [
    {
     "name": "stdout",
     "output_type": "stream",
     "text": [
      "{'Arnetta': 'A', 'Thomasena': 'A', 'Tammera': 'A', 'Chen': 'I', 'Lorene': 'I', 'Ajinder': 'I', 'Wen': 'I', 'Carletta': 'I', 'Mathew': 'A', 'Kum': 'I', 'Preston': 'A', 'Charlene': 'A', 'Wilson': 'A', 'Kathryne': 'A', 'Ariel': 'I', 'Shawn': 'A', 'Mei': 'I', 'Coralie': 'I', 'Kenna': 'A', 'Robert': 'I', 'Bethel': 'A', 'Marc': 'A', 'Ferdinand': 'I', 'Rico': 'I', 'Anne': 'I', 'Inderjeet': 'I', 'Tamiko': 'A', 'Dominque': 'I', 'Dian': 'I', 'Loraine': 'I', 'Sharen': 'I', 'Onie': 'A', 'Temeka': 'A', 'Ceola': 'A', 'Cherly': 'I', 'Samual': 'A', 'Leeanne': 'A', 'Rosamond': 'I', 'Arianna': 'A', 'Calandra': 'A', 'Panav': 'I', 'Jenelle': 'A', 'Luisa': 'I', 'Desiree': 'A', 'Krista': 'A', 'Sun': 'I', 'Angella': 'A', 'Estela': 'A', 'Gudrun': 'A', 'Maryrose': 'A'}\n"
     ]
    }
   ],
   "source": [
    "nationality = {}\n",
    "index = 0\n",
    "# print(members)\n",
    "for mem in members:\n",
    "    nationality[mem] = nationalities[index]\n",
    "    index += 1\n",
    "print(nationality)"
   ]
  },
  {
   "cell_type": "code",
   "execution_count": 18,
   "metadata": {},
   "outputs": [
    {
     "name": "stdout",
     "output_type": "stream",
     "text": [
      "{'Arnetta': 'A', 'Thomasena': 'A', 'Tammera': 'A', 'Chen': 'I', 'Lorene': 'I', 'Ajinder': 'I', 'Wen': 'I', 'Carletta': 'I', 'Mathew': 'A', 'Kum': 'I', 'Preston': 'A', 'Charlene': 'A', 'Wilson': 'A', 'Kathryne': 'A', 'Ariel': 'I', 'Shawn': 'A', 'Mei': 'I', 'Coralie': 'I', 'Kenna': 'A', 'Robert': 'I', 'Bethel': 'A', 'Marc': 'A', 'Ferdinand': 'I', 'Rico': 'I', 'Anne': 'I', 'Inderjeet': 'I', 'Tamiko': 'A', 'Dominque': 'I', 'Dian': 'I', 'Loraine': 'I', 'Sharen': 'I', 'Onie': 'A', 'Temeka': 'A', 'Ceola': 'A', 'Cherly': 'I', 'Samual': 'A', 'Leeanne': 'A', 'Rosamond': 'I', 'Arianna': 'A', 'Calandra': 'A', 'Panav': 'I', 'Jenelle': 'A', 'Luisa': 'I', 'Desiree': 'A', 'Krista': 'A', 'Sun': 'I', 'Angella': 'A', 'Estela': 'A', 'Gudrun': 'A', 'Maryrose': 'A'}\n"
     ]
    }
   ],
   "source": [
    "nationality = {}\n",
    "for index, member in enumerate(members):\n",
    "    nationality[member] = nationalities[index]\n",
    "print(nationality)"
   ]
  },
  {
   "cell_type": "code",
   "execution_count": 19,
   "metadata": {},
   "outputs": [
    {
     "name": "stdout",
     "output_type": "stream",
     "text": [
      "{'Arnetta': 'A', 'Thomasena': 'A', 'Tammera': 'A', 'Chen': 'I', 'Lorene': 'I', 'Ajinder': 'I', 'Wen': 'I', 'Carletta': 'I', 'Mathew': 'A', 'Kum': 'I', 'Preston': 'A', 'Charlene': 'A', 'Wilson': 'A', 'Kathryne': 'A', 'Ariel': 'I', 'Shawn': 'A', 'Mei': 'I', 'Coralie': 'I', 'Kenna': 'A', 'Robert': 'I', 'Bethel': 'A', 'Marc': 'A', 'Ferdinand': 'I', 'Rico': 'I', 'Anne': 'I', 'Inderjeet': 'I', 'Tamiko': 'A', 'Dominque': 'I', 'Dian': 'I', 'Loraine': 'I', 'Sharen': 'I', 'Onie': 'A', 'Temeka': 'A', 'Ceola': 'A', 'Cherly': 'I', 'Samual': 'A', 'Leeanne': 'A', 'Rosamond': 'I', 'Arianna': 'A', 'Calandra': 'A', 'Panav': 'I', 'Jenelle': 'A', 'Luisa': 'I', 'Desiree': 'A', 'Krista': 'A', 'Sun': 'I', 'Angella': 'A', 'Estela': 'A', 'Gudrun': 'A', 'Maryrose': 'A'}\n"
     ]
    }
   ],
   "source": [
    "nationality = {}\n",
    "for member, nation in zip(members, nationalities):\n",
    "    nationality[member] = nation\n",
    "print(nationality)"
   ]
  },
  {
   "cell_type": "code",
   "execution_count": 22,
   "metadata": {},
   "outputs": [
    {
     "name": "stdout",
     "output_type": "stream",
     "text": [
      "{'Arnetta': 'A', 'Thomasena': 'A', 'Tammera': 'A', 'Chen': 'I', 'Lorene': 'I', 'Ajinder': 'I', 'Wen': 'I', 'Carletta': 'I', 'Mathew': 'A', 'Kum': 'I', 'Preston': 'A', 'Charlene': 'A', 'Wilson': 'A', 'Kathryne': 'A', 'Ariel': 'I', 'Shawn': 'A', 'Mei': 'I', 'Coralie': 'I', 'Kenna': 'A', 'Robert': 'I', 'Bethel': 'A', 'Marc': 'A', 'Ferdinand': 'I', 'Rico': 'I', 'Anne': 'I', 'Inderjeet': 'I', 'Tamiko': 'A', 'Dominque': 'I', 'Dian': 'I', 'Loraine': 'I', 'Sharen': 'I', 'Onie': 'A', 'Temeka': 'A', 'Ceola': 'A', 'Cherly': 'I', 'Samual': 'A', 'Leeanne': 'A', 'Rosamond': 'I', 'Arianna': 'A', 'Calandra': 'A', 'Panav': 'I', 'Jenelle': 'A', 'Luisa': 'I', 'Desiree': 'A', 'Krista': 'A', 'Sun': 'I', 'Angella': 'A', 'Estela': 'A', 'Gudrun': 'A', 'Maryrose': 'A'}\n"
     ]
    }
   ],
   "source": [
    "nationality = dict(zip(members, nationalities)) # Contain key and value\n",
    "print(nationality)"
   ]
  },
  {
   "cell_type": "markdown",
   "metadata": {},
   "source": [
    "Test it by looking up the nationality of a few names.  Are you getting the right answers?"
   ]
  },
  {
   "cell_type": "code",
   "execution_count": null,
   "metadata": {},
   "outputs": [],
   "source": []
  },
  {
   "cell_type": "code",
   "execution_count": null,
   "metadata": {},
   "outputs": [],
   "source": []
  },
  {
   "cell_type": "markdown",
   "metadata": {},
   "source": [
    "### Problem 7\n",
    "Make and print out a list with the names of all the American students and a separate list for all the international students"
   ]
  },
  {
   "cell_type": "code",
   "execution_count": 64,
   "metadata": {},
   "outputs": [
    {
     "name": "stdout",
     "output_type": "stream",
     "text": [
      "American students: ['Arnetta', 'Thomasena', 'Tammera', 'Mathew', 'Preston', 'Charlene', 'Wilson', 'Kathryne', 'Shawn', 'Kenna', 'Bethel', 'Marc', 'Tamiko', 'Onie', 'Temeka', 'Ceola', 'Samual', 'Leeanne', 'Arianna', 'Calandra', 'Jenelle', 'Desiree', 'Krista', 'Angella', 'Estela', 'Gudrun', 'Maryrose']\n",
      "---------------------------------------------------------------------------------\n",
      "International students: ['Chen', 'Lorene', 'Ajinder', 'Wen', 'Carletta', 'Kum', 'Ariel', 'Mei', 'Coralie', 'Robert', 'Ferdinand', 'Rico', 'Anne', 'Inderjeet', 'Dominque', 'Dian', 'Loraine', 'Sharen', 'Cherly', 'Rosamond', 'Panav', 'Luisa', 'Sun']\n"
     ]
    }
   ],
   "source": [
    "A_list = []\n",
    "I_list = []\n",
    "for name, nation in nationality.items():\n",
    "    if nation == 'A':\n",
    "        A_list.append(name)\n",
    "    elif nation == 'I':\n",
    "        I_list.append(name)\n",
    "print('American students:', A_list)\n",
    "print('---------------------------------------------------------------------------------')\n",
    "print('International students:', I_list)"
   ]
  },
  {
   "cell_type": "markdown",
   "metadata": {},
   "source": [
    "### Problem 8\n",
    "Above you computed the number of American and international students - demonstrate that your lists of names each have the correct length"
   ]
  },
  {
   "cell_type": "code",
   "execution_count": 65,
   "metadata": {},
   "outputs": [
    {
     "name": "stdout",
     "output_type": "stream",
     "text": [
      "Correct length\n",
      "Correct length\n"
     ]
    }
   ],
   "source": [
    "print('Correct length' if len(A_list) == Americans else 'Incorrect length')\n",
    "print('Correct length' if len(I_list) == International_students else 'Incorrect length')"
   ]
  },
  {
   "cell_type": "code",
   "execution_count": null,
   "metadata": {},
   "outputs": [],
   "source": []
  },
  {
   "cell_type": "code",
   "execution_count": null,
   "metadata": {},
   "outputs": [],
   "source": []
  },
  {
   "cell_type": "markdown",
   "metadata": {},
   "source": [
    "\"Violette\" tells us that her friends are \"Arianna\", \"Calandra\",\" Stacie\", and \"Jenelle\".  We could store this in a list and assign it to a variable like this\n",
    "```\n",
    "violettes_friends = [\"Arianna\",\"Calandra\",\"Stacie\",\"Jenelle\"]\n",
    "```\n",
    "But we have 50 (and in real life more) people to keep track of --- it is just too cumbersome to have a variable for each person.  \n",
    "\n",
    "I.e., we want to associate each person by name with a list of friends.  \n",
    "\n",
    "Sound familiar?  We need another dictionary, just like we did for nationalities.  I.e., we need a dictionary so that doing `members_friends[name]` gives us a list of friends for the person.\n",
    "\n",
    "If we had some actual data we would read from a file or data base the list of friends for each person.  In this class we will instead generate some random test data. \n",
    "\n",
    "This is very common when developing code and testing algorithms.\n",
    "\n",
    "The test data must make sense and not be too large.  The following seem a good set of contraints for our tests in class.  \n",
    "* we randomly pick friends (aboput 6 or fewer) for each person\n",
    "* a person's list of friends should not include her/himself, and should not include repeats\n",
    "* the friend relationship should be reciprocal --- i.e., if I am friends with you, then you are with me.\n",
    " \n",
    "The code below generates the test data.  Read it to understand what **each** line is doing.  If you cannot figure it out, then ask!"
   ]
  },
  {
   "cell_type": "code",
   "execution_count": 66,
   "metadata": {},
   "outputs": [
    {
     "name": "stdout",
     "output_type": "stream",
     "text": [
      "Arnetta : ['Leeanne', 'Wen', 'Kum', 'Cherly', 'Calandra']\n",
      "Thomasena : ['Ajinder', 'Mathew', 'Preston', 'Shawn']\n",
      "Tammera : ['Carletta', 'Onie', 'Marc', 'Sharen']\n",
      "Chen : ['Sharen', 'Jenelle', 'Anne', 'Krista']\n",
      "Lorene : ['Wen']\n",
      "Ajinder : ['Thomasena', 'Anne', 'Dominque']\n",
      "Wen : ['Lorene', 'Gudrun', 'Maryrose', 'Arnetta', 'Mathew', 'Mei', 'Inderjeet']\n",
      "Carletta : ['Tammera', 'Dian', 'Coralie', 'Angella', 'Ariel']\n",
      "Mathew : ['Wen', 'Bethel', 'Thomasena', 'Jenelle']\n",
      "Kum : ['Arnetta', 'Anne', 'Desiree', 'Kathryne']\n",
      "Preston : ['Angella', 'Thomasena', 'Ceola']\n",
      "Charlene : ['Gudrun', 'Mei', 'Ferdinand']\n",
      "Wilson : ['Onie', 'Samual', 'Ariel', 'Kenna']\n",
      "Kathryne : ['Kum', 'Ariel']\n",
      "Ariel : ['Carletta', 'Wilson', 'Kathryne', 'Gudrun', 'Loraine', 'Leeanne']\n",
      "Shawn : ['Thomasena', 'Tamiko', 'Marc']\n",
      "Mei : ['Jenelle', 'Wen', 'Charlene', 'Panav']\n",
      "Coralie : ['Carletta', 'Kenna', 'Estela', 'Marc', 'Angella', 'Arianna']\n",
      "Kenna : ['Coralie', 'Temeka', 'Dominque', 'Luisa', 'Wilson', 'Robert']\n",
      "Robert : ['Kenna', 'Rosamond']\n",
      "Bethel : ['Mathew', 'Temeka', 'Inderjeet']\n",
      "Marc : ['Coralie', 'Tammera', 'Sharen', 'Shawn']\n",
      "Ferdinand : ['Inderjeet', 'Tamiko', 'Luisa', 'Charlene', 'Rico', 'Rosamond']\n",
      "Rico : ['Ferdinand', 'Krista', 'Maryrose', 'Desiree', 'Anne', 'Dominque']\n",
      "Anne : ['Chen', 'Ajinder', 'Kum', 'Rico', 'Dian']\n",
      "Inderjeet : ['Bethel', 'Ferdinand', 'Temeka', 'Wen', 'Maryrose', 'Dominque', 'Ceola', 'Leeanne']\n",
      "Tamiko : ['Shawn', 'Ferdinand', 'Estela']\n",
      "Dominque : ['Ajinder', 'Kenna', 'Inderjeet', 'Rico']\n",
      "Dian : ['Carletta', 'Anne', 'Angella']\n",
      "Loraine : ['Ariel', 'Arianna']\n",
      "Sharen : ['Chen', 'Marc', 'Tammera', 'Krista']\n",
      "Onie : ['Tammera', 'Wilson', 'Estela']\n",
      "Temeka : ['Kenna', 'Bethel', 'Inderjeet', 'Calandra', 'Rosamond', 'Ceola', 'Panav']\n",
      "Ceola : ['Preston', 'Inderjeet', 'Jenelle', 'Temeka']\n",
      "Cherly : ['Arnetta']\n",
      "Samual : ['Wilson', 'Leeanne', 'Calandra', 'Luisa', 'Sun']\n",
      "Leeanne : ['Arnetta', 'Samual', 'Ariel', 'Inderjeet', 'Rosamond', 'Sun']\n",
      "Rosamond : ['Robert', 'Temeka', 'Ferdinand', 'Leeanne']\n",
      "Arianna : ['Loraine', 'Coralie', 'Calandra']\n",
      "Calandra : ['Temeka', 'Samual', 'Arianna', 'Angella', 'Arnetta']\n",
      "Panav : ['Mei', 'Estela', 'Temeka']\n",
      "Jenelle : ['Chen', 'Mathew', 'Mei', 'Ceola']\n",
      "Luisa : ['Kenna', 'Ferdinand', 'Maryrose', 'Samual']\n",
      "Desiree : ['Kum', 'Rico']\n",
      "Krista : ['Rico', 'Chen', 'Sharen']\n",
      "Sun : ['Leeanne', 'Samual']\n",
      "Angella : ['Carletta', 'Preston', 'Coralie', 'Dian', 'Calandra']\n",
      "Estela : ['Coralie', 'Panav', 'Tamiko', 'Onie']\n",
      "Gudrun : ['Wen', 'Charlene', 'Ariel']\n",
      "Maryrose : ['Wen', 'Rico', 'Inderjeet', 'Luisa']\n"
     ]
    }
   ],
   "source": [
    "import random\n",
    "random.seed(1)   # So that rerunning this code produces same result every time\n",
    "\n",
    "members_friends={}   # make an empty dictionary\n",
    "for name in members: # pre-populate with empty list for each person\n",
    "    members_friends[name]=[]\n",
    "    \n",
    "for member in members:\n",
    "    nfriends = random.randrange(0,6) # random integer 0<=N<6\n",
    "    while len(members_friends[member]) < nfriends:\n",
    "        # find a *new* friend who is not member\n",
    "        while True:\n",
    "            friend = members[random.randrange(0,len(members))]\n",
    "            if not (friend in members_friends[member] or friend==member):\n",
    "                break\n",
    "        members_friends[member].append(friend)\n",
    "        members_friends[friend].append(member) # Ensure reciprocal relationshipmales\n",
    "\n",
    "#print(members_friends)  # this works but is hard to read\n",
    "for member, friends in members_friends.items():\n",
    "    print(member,\":\",friends)"
   ]
  },
  {
   "cell_type": "markdown",
   "metadata": {},
   "source": [
    "Cool.  Now let's do some data analytics!  Manually verify your answers --- this is only a small social network.\n",
    "\n",
    "### Problem 9\n",
    "\n",
    "* make a list called `members_num_friends` that contains the number of friends each person has\n",
    "* what is the maximum number of friends anyone has?\n",
    "* what is the least?\n",
    "* who has exactly two friends?\n",
    "* who has the most friends?\n",
    "* who has the least?\n"
   ]
  },
  {
   "cell_type": "code",
   "execution_count": null,
   "metadata": {},
   "outputs": [],
   "source": []
  },
  {
   "cell_type": "markdown",
   "metadata": {},
   "source": [
    "### Problem 10\n",
    "\n",
    "Here are functions to compute the mean of a list of numbers.\n",
    "\n",
    "Ditto for the median (see basic procedure in https://en.wikipedia.org/wiki/Median).\n",
    "\n",
    "Test them both on the three lists below for which you can compute the answers by hand\n",
    "```\n",
    "l1 = [3,1,2,4]\n",
    "l2 = [3,1,2,4,0]\n",
    "l3 = []\n",
    "```"
   ]
  },
  {
   "cell_type": "code",
   "execution_count": null,
   "metadata": {},
   "outputs": [],
   "source": [
    "def compute_mean(values):\n",
    "    '''Given a list (iterable) of values, return the mean.'''\n",
    "    if len(values) == 0:\n",
    "        return 0.0\n",
    "    else:\n",
    "        return sum(values)/len(values)\n",
    "\n",
    "def compute_median(values):\n",
    "    '''Given a list (iterable) of values, return the median.'''\n",
    "    s = sorted(values)\n",
    "    n = len(s)\n",
    "    if n == 0:\n",
    "        return 0.0\n",
    "    elif n%2 == 1:\n",
    "        return s[(n-1)//2]\n",
    "    else:\n",
    "        return 0.5*(s[n//2]+s[n//2 - 1])\n",
    "\n",
    "l1 = [3,1,2,4]\n",
    "l2 = [3,1,2,4,0]\n",
    "l3 = []\n"
   ]
  },
  {
   "cell_type": "code",
   "execution_count": null,
   "metadata": {},
   "outputs": [],
   "source": [
    "# Insert your test code below here\n",
    "\n"
   ]
  },
  {
   "cell_type": "markdown",
   "metadata": {},
   "source": [
    "Great.  Now we can compute statistics (min/max/mean/median) on the number of friends people have\n",
    "* in total, and\n",
    "* by nationality\n",
    "\n",
    "How to do this?  We already have a list of the number of total friends for each person, and we also have functions to compute all the stats we need.  So we just need to make a list (e.g., call it `members_num_american_friends`) for the number of American friends each person has (and ditto for international friends) and then apply the functions we already have to each list.\n",
    "\n",
    "### Problem 11\n",
    "\n",
    "Please print out the statistics with everything lined up nicely in columns with titles and all numbers printed with 1 decimal place.  I.e., something like this (your numbers will be different and you don't have to precisely reproduce the layout --- the goal is readability).\n",
    "\n",
    "```\n",
    "                    max      min     mean   median\n",
    "                 -------- -------- -------- --------\n",
    "        total:      8.0      1.0      4.0      4.0 \n",
    "     american:      7.0      1.0      3.3      3.0 \n",
    "international:      3.0      0.0      0.7      1.0 \n",
    "```\n",
    "\n",
    "It may help to look at string formatting documentation:\n",
    "* https://docs.python.org/3.6/tutorial/inputoutput.html#fancier-output-formatting\n",
    "* https://docs.python.org/3.6/library/stdtypes.html#text-sequence-type-str\n",
    "\n",
    "Do your numbers make sense?  Ask critical questions about **every** result because it is so easy to make mistakes."
   ]
  },
  {
   "cell_type": "code",
   "execution_count": null,
   "metadata": {},
   "outputs": [],
   "source": []
  },
  {
   "cell_type": "markdown",
   "metadata": {},
   "source": [
    "### Our final challenge is to compute the distance (number of of handshakes) everyone is away from Robert. \n",
    "\n",
    " **There's no points for this section --- just read it.**\n",
    " \n",
    "This part is a bit more complicated and is really for those who already have a bit of programming experience. I don't expect everyone to fully understand this at this stage.  So, unless you want some extra fun there's no actual coding in this question.\n",
    "\n",
    "In the following we discuss how to design an algorithm to compute the distances.  You may want to think about this for yourself first.\n",
    "\n",
    "What do we know already?\n",
    "* Robert is zero distance from himself\n",
    "* His friends are one unit (handshake) distance away\n",
    "* What about the friends of Robert's friends?  \n",
    "  - As we loop thru these lists of friends, there seems to be three scenarios\n",
    "    - a person is Robert and so the distance is zero\n",
    "    - a person is a friend of Robert and so the distance is one\n",
    "    - otherwise the person is two handshakes away (friend of a friend of Robert)\n",
    "\n",
    "What also often helps is to think of a simpler problem you can solve.  In this instance, if you were not already a friend of Robert and were magically given the distance of all of your friends from him, how could you compute your distance?\n",
    "* It is one greater than the minimum distance for any of your friends.  Does that make sense?\n",
    " \n",
    "So now we have the two elements we need for an algorithm\n",
    "* By spiraling out (friends of Robert, friends of friends of Robert, etc.), we will discover people in order of increasing distance.  As a result, when we look in turn at the friends of each person we will either \n",
    "  - already know the distance from Robert of the friend (since that person is closer to Robert), or \n",
    "  - don't already know the distance from Robert of the friend, in which case the person is as far or further away than the person we are interested in.\n",
    "* Hence we can compute the distance for the person as one greater than the the minimum distance of all friends for which we already know the distance.\n",
    "  \n",
    "This is the essence of Dijkstra's famous algorithm for solving this problem\n",
    "* https://en.wikipedia.org/wiki/Dijkstra's_algorithm\n",
    "* https://en.wikipedia.org/wiki/Shortest_path_problem\n",
    "\n",
    "We have not been concerned with efficiency, instead we just wanted to explore programming and algorithms.  However, if you have a big social network efficiency becomes very important, and the above two links are a good place to start reading.\n",
    "\n",
    "For most everyone:\n",
    "* read and understand my implementation of Dijkstra's algorithm below\n",
    "* ask questions in class (or office hours or on the discussion board) if you don't understand\n",
    "\n",
    "For people up for a challenge:\n",
    "* try writing your own software for computing the distance of everyone from Robert, or\n",
    "* translate into Python Dijkstra's algorithm from the pseudocode given on the Wikipedia page above.\n",
    "\n",
    "Either way, run your code or my code to compute a dictionary (called `distances`) that maps from a name to the distance from Robert.\n"
   ]
  },
  {
   "cell_type": "code",
   "execution_count": null,
   "metadata": {},
   "outputs": [],
   "source": [
    "def compute_distance_from_target(target, members, members_friends):\n",
    "    ''' \n",
    "    Returns a map from each member to his/her distance from the target person.\n",
    "    If someone is not connected, the distance will be >= the number of members\n",
    "    '''\n",
    "    unprocessed=list(members)\n",
    "    dist={member:len(members) for member in members}\n",
    "    dist[target] = 0\n",
    "    \n",
    "    while len(unprocessed) > 0:\n",
    "        mindist = len(members)\n",
    "        for q in unprocessed:\n",
    "            if dist[q] <= mindist:\n",
    "                mindist = dist[q]\n",
    "                u = q\n",
    "        unprocessed.remove(u)\n",
    "        \n",
    "        for v in members_friends[u]:\n",
    "            dist[v] = min(dist[v],dist[u]+1)\n",
    "            \n",
    "    return dist\n",
    "\n",
    "distances = compute_distance_from_target(\"Robert\", members, members_friends)\n",
    "\n",
    "#print(distances)\n",
    "# again, print a more readable format\n",
    "for name, distance in distances.items():\n",
    "    print(name,\":\",distance)"
   ]
  },
  {
   "cell_type": "markdown",
   "metadata": {},
   "source": [
    "### What does the graph look like?\n",
    "\n",
    "To wrap up, and provide a hint of what is ahead for you - run the following to see what our little social network looks like.  You don't need to understand this code.\n",
    "\n",
    "I followed http://lachlanblackhall.com/wp-content/uploads/2014/08/Graphs-Networks-and-Python.pdf and https://networkx.github.io/documentation/stable/index.html "
   ]
  },
  {
   "cell_type": "code",
   "execution_count": null,
   "metadata": {},
   "outputs": [],
   "source": [
    "import networkx as nx\n",
    "%matplotlib inline\n",
    "G = nx.Graph()\n",
    "for name in members:\n",
    "    G.add_node(name)\n",
    "for name in members:\n",
    "    for friend in members_friends[name]:\n",
    "        if name > friend:\n",
    "            G.add_edge(name,friend)\n",
    "labels={name:name for name in members}\n",
    "nx.draw(G,labels=labels,font_size=8)"
   ]
  },
  {
   "cell_type": "code",
   "execution_count": null,
   "metadata": {},
   "outputs": [],
   "source": []
  }
 ],
 "metadata": {
  "anaconda-cloud": {},
  "kernelspec": {
   "display_name": "Python 3 (ipykernel)",
   "language": "python",
   "name": "python3"
  },
  "language_info": {
   "codemirror_mode": {
    "name": "ipython",
    "version": 3
   },
   "file_extension": ".py",
   "mimetype": "text/x-python",
   "name": "python",
   "nbconvert_exporter": "python",
   "pygments_lexer": "ipython3",
   "version": "3.9.7"
  }
 },
 "nbformat": 4,
 "nbformat_minor": 1
}
