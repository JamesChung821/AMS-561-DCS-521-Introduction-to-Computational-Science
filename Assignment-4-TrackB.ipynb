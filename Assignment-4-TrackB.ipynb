{
 "cells": [
  {
   "cell_type": "markdown",
   "metadata": {},
   "source": [
    "# AMS 561 Homework 4\n",
    "\n",
    "This homework uses pacakges `sympy`, `numpy`, and `scipy`. There are four problems in this homework, with 20 points for each problem. You can choose to solve only three problems or solve all four of them. In the latter case, your grade will be based on the three highest scores of the four problems, for a total of 60 points."
   ]
  },
  {
   "cell_type": "markdown",
   "metadata": {},
   "source": [
    "# Problem 1 (20 points)\n",
    "\n",
    "<img src=\"http://www.scipy-lectures.org/_images/markov-chain.png\" width=\"400\">\n",
    "\n",
    "Given a set of $n$ states, the Markov chain transition matrix $P$ is an $n\\times n$ matrix containing the probability distribution of the transitions between the states. In particular, the transition matrix satisfies the following rules:\n",
    "\n",
    "1. $0\\leq P[i,j]\\leq 1$: probability to go from state $i$ to state $j$\n",
    "2. normalization: $\\mathrm{all}(\\mathrm{sum}(P,axis=1)==1), p.\\mathrm{sum}()==1$\n",
    "\n",
    "(a) Construct a $5\\times 5$ transition matrix $P$ by starting from a random matrix and then normalize each row by dividing it by its row-sum, so that it is a transition matrix.\n",
    "\n",
    "(See B04-SVDEigen-TrackB.ipynb for an example.)"
   ]
  },
  {
   "cell_type": "code",
   "execution_count": 2,
   "metadata": {},
   "outputs": [
    {
     "ename": "NameError",
     "evalue": "name 'p_matrix' is not defined",
     "output_type": "error",
     "traceback": [
      "\u001b[1;31m---------------------------------------------------------------------------\u001b[0m",
      "\u001b[1;31mNameError\u001b[0m                                 Traceback (most recent call last)",
      "\u001b[1;32m~\\AppData\\Local\\Temp/ipykernel_39840/1783276013.py\u001b[0m in \u001b[0;36m<module>\u001b[1;34m\u001b[0m\n\u001b[0;32m      3\u001b[0m \u001b[1;31m# Useful function\u001b[0m\u001b[1;33m\u001b[0m\u001b[1;33m\u001b[0m\u001b[0m\n\u001b[0;32m      4\u001b[0m \u001b[0mp_transition\u001b[0m \u001b[1;33m=\u001b[0m \u001b[0mnp\u001b[0m\u001b[1;33m.\u001b[0m\u001b[0mrandom\u001b[0m\u001b[1;33m.\u001b[0m\u001b[0mrand\u001b[0m\u001b[1;33m(\u001b[0m\u001b[1;36m5\u001b[0m\u001b[1;33m,\u001b[0m \u001b[1;36m5\u001b[0m\u001b[1;33m)\u001b[0m\u001b[1;33m\u001b[0m\u001b[1;33m\u001b[0m\u001b[0m\n\u001b[1;32m----> 5\u001b[1;33m \u001b[0mp_transition_nor\u001b[0m \u001b[1;33m=\u001b[0m \u001b[0mnp\u001b[0m\u001b[1;33m.\u001b[0m\u001b[0marray\u001b[0m\u001b[1;33m(\u001b[0m\u001b[1;33m[\u001b[0m\u001b[0mp_transition\u001b[0m\u001b[1;33m[\u001b[0m\u001b[0mi\u001b[0m\u001b[1;33m,\u001b[0m \u001b[1;33m:\u001b[0m\u001b[1;33m]\u001b[0m\u001b[1;33m/\u001b[0m\u001b[0mnp\u001b[0m\u001b[1;33m.\u001b[0m\u001b[0msum\u001b[0m\u001b[1;33m(\u001b[0m\u001b[0mp_transition\u001b[0m\u001b[1;33m,\u001b[0m \u001b[0maxis\u001b[0m\u001b[1;33m=\u001b[0m\u001b[1;36m1\u001b[0m\u001b[1;33m)\u001b[0m\u001b[1;33m[\u001b[0m\u001b[0mi\u001b[0m\u001b[1;33m]\u001b[0m \u001b[1;32mfor\u001b[0m \u001b[0mi\u001b[0m \u001b[1;32min\u001b[0m \u001b[0mrange\u001b[0m\u001b[1;33m(\u001b[0m\u001b[0mlen\u001b[0m\u001b[1;33m(\u001b[0m\u001b[0mp_matrix\u001b[0m\u001b[1;33m)\u001b[0m\u001b[1;33m)\u001b[0m\u001b[1;33m]\u001b[0m\u001b[1;33m)\u001b[0m\u001b[1;33m\u001b[0m\u001b[1;33m\u001b[0m\u001b[0m\n\u001b[0m",
      "\u001b[1;31mNameError\u001b[0m: name 'p_matrix' is not defined"
     ]
    }
   ],
   "source": [
    "import numpy as np\n",
    "\n",
    "# Useful function\n",
    "p_transition = np.random.rand(5, 5)\n",
    "p_transition_nor = np.array([p_transition[i, :]/np.sum(p_transition, axis=1)[i] for i in range(len(p_matrix))])"
   ]
  },
  {
   "cell_type": "code",
   "execution_count": null,
   "metadata": {},
   "outputs": [],
   "source": [
    "print('transition matrix 𝑃')\n",
    "print(p_transition_nor)"
   ]
  },
  {
   "cell_type": "markdown",
   "metadata": {},
   "source": [
    "(b) Given a probability distribution $p$, the transition matrix $P$ defines a transition rule:\n",
    "$$p_{new}=P^{T}p.$$\n",
    "\n",
    "Starts from a random probability distribution $p$ )(normalized, so that its sum is 1) and takes 50 steps to obtain p_50."
   ]
  },
  {
   "cell_type": "code",
   "execution_count": null,
   "metadata": {},
   "outputs": [],
   "source": [
    "p_distribution = np.random.rand(5)\n",
    "p_distribution_nor = p_distribution/np.sum(p_distribution)\n",
    "p_50 = p_distribution_nor\n",
    "for step in range(50):\n",
    "    p_50 = np.dot(p_transition_nor.T, p_50)\n",
    "print('p_50')\n",
    "print(p_50)"
   ]
  },
  {
   "cell_type": "markdown",
   "metadata": {},
   "source": [
    "(c) Computes the stationary distribution: the eigenvector of `P.T` with eigenvalue 1 (or numerically, the eigenvalue closest to one) to obtain p_stationary. Remember to divide the eigenvector by its sum and discard the tiny imaginary part."
   ]
  },
  {
   "cell_type": "code",
   "execution_count": null,
   "metadata": {},
   "outputs": [],
   "source": [
    "import scipy.linalg as la\n",
    "\n",
    "# Useful functions\n",
    "evals, evecs = la.eig(p_transition_nor.T)\n",
    "print('eigenvalue')\n",
    "print(np.real(evals))"
   ]
  },
  {
   "cell_type": "code",
   "execution_count": null,
   "metadata": {},
   "outputs": [],
   "source": [
    "p_stationary = np.real(evecs)[:,0]/np.sum(np.real(evecs)[:,0])\n",
    "print('p_stationary')\n",
    "print(p_stationary)"
   ]
  },
  {
   "cell_type": "markdown",
   "metadata": {},
   "source": [
    "(d) Check if p_50 and p_stationary are equal to each other within a tolerance of $10^{-5}$."
   ]
  },
  {
   "cell_type": "code",
   "execution_count": null,
   "metadata": {},
   "outputs": [],
   "source": [
    "tol = p_50-p_stationary\n",
    "print('tolerance')\n",
    "print(tol)"
   ]
  },
  {
   "cell_type": "markdown",
   "metadata": {},
   "source": [
    "## Problem 2 (20 points)\n",
    "\n",
    "Here is a cubic polynomial with three closely spaced real roots:\n",
    "\n",
    "$$ p(x) = 816 x^3 - 3835 x^2 + 6000 x - 3125 $$\n",
    "\n",
    "(a) Use SymPy (http://docs.sympy.org/latest/index.html) to find symbolic expressions for the three roots (i.e., the values of $x$ where $p(x) = 0$). \n",
    "\n",
    "(Hint:  Below we show how to use SymPy to solve for the roots of the quadratic polynomial $-x^2  - x + 12$ --- you just need to modify that code once you understand how the code works. Alternatively, use the np.roots() function to compute the roots numerically that we used in a previous homework.)"
   ]
  },
  {
   "cell_type": "code",
   "execution_count": 5,
   "metadata": {},
   "outputs": [
    {
     "name": "stdout",
     "output_type": "stream",
     "text": [
      "{5/3: 1, 25/16: 1, 25/17: 1}\n",
      "[1.66666666666667, 1.56250000000000, 1.47058823529412]\n",
      "[1.66666667 1.5625     1.47058824]\n"
     ]
    }
   ],
   "source": [
    "import sympy\n",
    "\n",
    "# Modify these to find the roots of the given cubic polynomial\n",
    "x = sympy.symbols('x')\n",
    "roots = sympy.roots(816*x**3-3835*x**2+6000*x-3125)\n",
    "print(roots)\n",
    "\n",
    "\n"
   ]
  },
  {
   "cell_type": "code",
   "execution_count": 6,
   "metadata": {},
   "outputs": [
    {
     "name": "stdout",
     "output_type": "stream",
     "text": [
      "SymPy roots: [1.66666666666667, 1.56250000000000, 1.47058823529412]\n",
      "Numpy roots [1.66666667 1.5625     1.47058824]\n"
     ]
    }
   ],
   "source": [
    "xroots = [sympy.N(r) for r in roots]  # Compute the numerical values \n",
    "print('SymPy roots:', xroots)\n",
    "\n",
    "print('Numpy roots', np.roots([816, -3835, 6000, -3125]))"
   ]
  },
  {
   "cell_type": "markdown",
   "metadata": {},
   "source": [
    "(b) Plot $p(x)$ for $1.43 \\le x \\le 1.71$ using a solid line and mark the location of the three roots using circles on the plot."
   ]
  },
  {
   "cell_type": "code",
   "execution_count": 24,
   "metadata": {},
   "outputs": [
    {
     "data": {
      "image/png": "[encoded data removed]",
      "text/plain": [
       "<Figure size 432x288 with 1 Axes>"
      ]
     },
     "metadata": {
      "needs_background": "light"
     },
     "output_type": "display_data"
    }
   ],
   "source": [
    "import matplotlib.pyplot as plt\n",
    "%matplotlib inline\n",
    "\n",
    "x = np.linspace(1.43, 1.71, 100)\n",
    "y = 816*x**3-3835*x**2+6000*x-3125\n",
    "x_root = np.array(xroots)\n",
    "y_root = 816*x_root**3-3835*x_root**2+6000*x_root-3125\n",
    "\n",
    "plt.plot(x, y, 'k-', x_root, y_root, 'ro')\n",
    "plt.xlabel('x')\n",
    "plt.ylabel('p(x)')\n",
    "plt.show()\n"
   ]
  },
  {
   "cell_type": "markdown",
   "metadata": {},
   "source": [
    "(c) Use the function [`scipy.optimize.fsolve`](https://docs.scipy.org/doc/scipy-0.18.1/reference/generated/scipy.optimize.fsolve.html) with starting guesses $x0=1$, $x0=1.6$ and $x0=1.7$ to compute the three roots."
   ]
  },
  {
   "cell_type": "code",
   "execution_count": 28,
   "metadata": {},
   "outputs": [
    {
     "name": "stdout",
     "output_type": "stream",
     "text": [
      "1 root: 1.470588235294112\n",
      "2 root: 1.5625000000001783\n",
      "3 root: 1.6666666666666585\n"
     ]
    }
   ],
   "source": [
    "import scipy.optimize as opt\n",
    "\n",
    "# Useful function\n",
    "guesses = [1, 1.6, 1.7]\n",
    "for i in guesses:\n",
    "    print(f'{guesses.index(i)+1} root: {opt.fsolve(lambda x:816*x**3-3835*x**2+6000*x-3125, i)[0]}')"
   ]
  },
  {
   "cell_type": "code",
   "execution_count": null,
   "metadata": {},
   "outputs": [],
   "source": []
  },
  {
   "cell_type": "code",
   "execution_count": null,
   "metadata": {},
   "outputs": [],
   "source": []
  },
  {
   "cell_type": "markdown",
   "metadata": {},
   "source": [
    "(d) The secant method can be interpreted as using a finite difference approximation to estimate the derivative in Newton's method. Similar to the bisection method, the secant method uses two data points to determine a third one at each step. However, it uses not only the signs but also the values to draw a secant line through two points.\n",
    "\n",
    "<img src=\"https://www.ams.sunysb.edu/~jiao/teaching/ams561/images/secant.png\" width=\"400\">\n",
    "\n",
    "The slope of the scant is given by\n",
    "$$s_k = \\frac{f(x_k)-f(x_{k-1})}{x_k-x_{k-1}}.$$\n",
    "The intersection of the secant with the $x$ axis is then\n",
    "$$x_{k+1} = x_k - \\frac{f(x_k)}{s_k} = x_k + \\frac{x_k-x_{k-1}}{f(x_{k-1}) / f(x_k) - 1}.$$\n",
    "\n",
    "Complete the implementation of the secant method below."
   ]
  },
  {
   "cell_type": "code",
   "execution_count": 34,
   "metadata": {},
   "outputs": [],
   "source": [
    "def secant(f, a, b, tol=0):\n",
    "    '''Uses secant method to search for a root  of f(x) in the interval [a,b].\n",
    "    Tol is the convergence threshold on x. If not set a default is provided.\n",
    "    Returns the root and the number of iterations needed to find it.\n",
    "    '''\n",
    "    if tol <= 0:\n",
    "        tol = np.finfo(float).eps\n",
    "\n",
    "    fa = f(a)\n",
    "    for k in range(100):\n",
    "        fb = f(b)\n",
    "        if abs(fb) == 0:\n",
    "            x = b\n",
    "            break\n",
    "\n",
    "        # TODO: compute x based on the formula above\n",
    "        x = b + (b - a)/(f(a)/f(b) - 1)\n",
    "        delta = x - b\n",
    "\n",
    "        if abs(delta) < tol*abs(b):\n",
    "            break\n",
    "        a, fa = b, fb\n",
    "        b = x\n",
    "\n",
    "    return x, k"
   ]
  },
  {
   "cell_type": "markdown",
   "metadata": {},
   "source": [
    "Then use your implementaiton of the secant method to find the root by starting start with $a = 1$ and $b = 2$."
   ]
  },
  {
   "cell_type": "code",
   "execution_count": 44,
   "metadata": {},
   "outputs": [
    {
     "name": "stdout",
     "output_type": "stream",
     "text": [
      "a = 1, b = 2.0: root = 1.666666666666653, number of iterations = 11\n",
      "a = 1, b = 1.6: root = 1.5625000000001397, number of iterations = 7\n",
      "a = 1, b = 1.5: root = 1.4705882352941095, number of iterations = 10\n"
     ]
    }
   ],
   "source": [
    "def f(x):\n",
    "    return 816*x**3-3835*x**2+6000*x-3125\n",
    "secant_list = [2.0, 1.6, 1.5]\n",
    "for i in secant_list:\n",
    "    print(f'a = 1, b = {i}: root = {secant(f, 1, i)[0]}, number of iterations = {secant(f, 1, i)[1]}')"
   ]
  },
  {
   "cell_type": "markdown",
   "metadata": {},
   "source": [
    "## Problem 3  (20 points)\n",
    "\n",
    "Consider the function $p(x) = 9 x^2 - 6 x + 2$. \n",
    "\n",
    "a) Compute the value of x at the minimum by hand by solving $p^\\prime (x) = 0$ ( where $p^\\prime  = \\frac{dp}{dx}$). If you do not know or forgot how to compute the derivative of a polynomial, use SymPy to compute it using the following code:\n"
   ]
  },
  {
   "cell_type": "code",
   "execution_count": null,
   "metadata": {},
   "outputs": [],
   "source": [
    "import sympy\n",
    "# useful function\n",
    "sympy.diff?"
   ]
  },
  {
   "cell_type": "code",
   "execution_count": null,
   "metadata": {},
   "outputs": [],
   "source": [
    "# Answer: \n"
   ]
  },
  {
   "cell_type": "markdown",
   "metadata": {},
   "source": [
    "b) Run the golden-section function (below) to find the minimum with $a=0, ~ b=1$ and $tol = eps$ (i.e., machine epsilon, $\\epsilon$). See the `golden_section` function immediately below."
   ]
  },
  {
   "cell_type": "code",
   "execution_count": null,
   "metadata": {},
   "outputs": [],
   "source": [
    "def golden_section(f, a, b, tol):\n",
    "    ''' \n",
    "    finds a minimum of f(x) within the interval [a,b] using the\n",
    "    golden-section search. It assumes f has negative slope\n",
    "    at a and positive slope at b.\n",
    "    '''\n",
    "\n",
    "    tau = (np.sqrt(5) - 1) / 2\n",
    "    x1 = a + (1 - tau) * (b - a)\n",
    "    x2 = a + tau * (b - a)\n",
    "    f1, f2 = f(x1), f(x2)\n",
    "\n",
    "    k = 0\n",
    "    while b-a > tol:\n",
    "        if f1 > f2:\n",
    "            a = x1 \n",
    "            x1 = x2\n",
    "            f1 = f2\n",
    "            x2 = a + tau * (b-a)\n",
    "            f2 = f(x2)\n",
    "        else:\n",
    "            b = x2\n",
    "            x2 = x1\n",
    "            f2 = f1\n",
    "            x1 = a + (1 - tau) * (b-a)\n",
    "            f1 = f(x1)\n",
    "\n",
    "        k = k + 1\n",
    "        if k > 100:\n",
    "            break\n",
    "\n",
    "    x = (a + b) / 2;\n",
    "\n",
    "    return x, k"
   ]
  },
  {
   "cell_type": "code",
   "execution_count": null,
   "metadata": {},
   "outputs": [],
   "source": [
    "# Useful function\n",
    "np.finfo?"
   ]
  },
  {
   "cell_type": "code",
   "execution_count": null,
   "metadata": {},
   "outputs": [],
   "source": [
    "# Answer"
   ]
  },
  {
   "cell_type": "markdown",
   "metadata": {},
   "source": [
    "(c) Use the function `spi` in the lecture notes to determine the minimum value for the polynomial $9 x^2 - 6 x + 2$ using two arbitrary but distinct intervals to start the search."
   ]
  },
  {
   "cell_type": "code",
   "execution_count": null,
   "metadata": {},
   "outputs": [],
   "source": [
    "def spi(f, a, b, tol):\n",
    "    'SPI minimizes f(x) using successive parabolic interpolation.'\n",
    "\n",
    "    maxiter = 100\n",
    "\n",
    "    xs = np.array([a, (a+b)/2, b])\n",
    "    fx = f(xs)\n",
    "\n",
    "    for k in range(1, maxiter+1):\n",
    "        # For simplicity, we use numpy.polyfit for constructing quadratic polynomial\n",
    "        p = np.polyfit(xs, fx, 2)\n",
    "        x = -0.5*p[1] / p[0]\n",
    "\n",
    "        xs = np.array([xs[1], xs[2], x])\n",
    "        fx = np.array([fx[1], fx[2], f(x)])\n",
    "\n",
    "        if abs(xs[2]-xs[1]) < tol * abs(xs[1]):\n",
    "            break\n",
    "\n",
    "    x = xs[2]\n",
    "    return x, k"
   ]
  },
  {
   "cell_type": "code",
   "execution_count": null,
   "metadata": {},
   "outputs": [],
   "source": []
  },
  {
   "cell_type": "markdown",
   "metadata": {},
   "source": [
    "How many iterations does it take to reach the tolerance 1e-8?"
   ]
  },
  {
   "cell_type": "markdown",
   "metadata": {},
   "source": [
    "**Answer:** "
   ]
  },
  {
   "cell_type": "markdown",
   "metadata": {},
   "source": [
    "## Problem 4 (20 points)\n",
    "\n",
    "(a) Using the `scipy.integrate.quad` function to compute the integral numerically:\n",
    "$$I = \\int_0^1 \\cos(2\\pi x) dx.$$"
   ]
  },
  {
   "cell_type": "code",
   "execution_count": null,
   "metadata": {},
   "outputs": [],
   "source": [
    "# useful functions\n",
    "import scipy\n",
    "import scipy.integrate as integrate\n",
    "\n",
    "integrate.quad?"
   ]
  },
  {
   "cell_type": "code",
   "execution_count": null,
   "metadata": {},
   "outputs": [],
   "source": [
    "# Answer\n"
   ]
  },
  {
   "cell_type": "markdown",
   "metadata": {},
   "source": [
    "(b) Find the analytical integral of (a) either by hand or using `sympy` and compare it with the numerical solution."
   ]
  },
  {
   "cell_type": "code",
   "execution_count": null,
   "metadata": {},
   "outputs": [],
   "source": [
    "# Useful function\n",
    "sympy.integrate?\n",
    "\n",
    "# Answer\n"
   ]
  },
  {
   "cell_type": "markdown",
   "metadata": {},
   "source": [
    "(c) Use the `scipy.integrate.dblquad` function in SciPy to compute te following integral numerically:\n",
    "$$ I = \\int_{y=0}^{1/2}\\int_{x=0}^{1-2y} xy dx dy.$$"
   ]
  },
  {
   "cell_type": "code",
   "execution_count": null,
   "metadata": {},
   "outputs": [],
   "source": [
    "# useful functions\n",
    "integrate.dblquad?"
   ]
  },
  {
   "cell_type": "code",
   "execution_count": null,
   "metadata": {},
   "outputs": [],
   "source": [
    "# Answer\n"
   ]
  }
 ],
 "metadata": {
  "anaconda-cloud": {},
  "kernelspec": {
   "display_name": "Python 3 (ipykernel)",
   "language": "python",
   "name": "python3"
  },
  "language_info": {
   "codemirror_mode": {
    "name": "ipython",
    "version": 3
   },
   "file_extension": ".py",
   "mimetype": "text/x-python",
   "name": "python",
   "nbconvert_exporter": "python",
   "pygments_lexer": "ipython3",
   "version": "3.9.7"
  },
  "latex_envs": {
   "LaTeX_envs_menu_present": true,
   "autocomplete": true,
   "bibliofile": "biblio.bib",
   "cite_by": "apalike",
   "current_citInitial": 1,
   "eqLabelWithNumbers": true,
   "eqNumInitial": 1,
   "hotkeys": {
    "equation": "Ctrl-E",
    "itemize": "Ctrl-I"
   },
   "labels_anchors": false,
   "latex_user_defs": false,
   "report_style_numbering": false,
   "user_envs_cfg": false
  }
 },
 "nbformat": 4,
 "nbformat_minor": 2
}
