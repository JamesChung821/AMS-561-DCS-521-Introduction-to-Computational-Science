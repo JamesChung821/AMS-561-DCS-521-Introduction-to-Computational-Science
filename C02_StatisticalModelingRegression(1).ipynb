{
 "cells": [
  {
   "cell_type": "markdown",
   "metadata": {},
   "source": [
    "# Introduction to Statistical Modeling: Linear Regression\n",
    "\n",
    "**Overview**\n",
    "- Concept of statistical modeling\n",
    "- Defining statistical models with Patsy\n",
    "- Linear regression\n",
    "- Discrete regression: Logistic regression and Poisson model\n",
    "\n",
    "We will use the [statsmodels](https://www.statsmodels.org/stable/index.html) libray which provides classes and functions for defining statistical models and fitting them to observed data, for calculating descriptive statistics and carrying out statistical tests. The api modules collect the publically accessible symbols that the library provides."
   ]
  },
  {
   "cell_type": "code",
   "execution_count": 1,
   "metadata": {},
   "outputs": [],
   "source": [
    "import statsmodels.api as sm \n",
    "import statsmodels.formula.api as smf\n",
    "import statsmodels.graphics.api as smg"
   ]
  },
  {
   "cell_type": "markdown",
   "metadata": {},
   "source": [
    "The [Patsy](https://patsy.readthedocs.io/en/latest/) library allows us to write statistical models as simple formulas. It is inspired by statiscal software such as R and S.   The statmodels library internally uses the Patsy library and thus we don't need to access the Patsy's functions directly. But we will use Patsy for demonstration."
   ]
  },
  {
   "cell_type": "code",
   "execution_count": 2,
   "metadata": {},
   "outputs": [],
   "source": [
    "import patsy"
   ]
  },
  {
   "cell_type": "code",
   "execution_count": 3,
   "metadata": {},
   "outputs": [],
   "source": [
    "import matplotlib.pyplot as plt\n",
    "%matplotlib inline\n",
    "import numpy as np\n",
    "import pandas as pd\n",
    "from scipy import stats"
   ]
  },
  {
   "cell_type": "markdown",
   "metadata": {},
   "source": [
    "**Main Problem:** For a set of response(dependent) variables $Y$, and explanatory(independent) variable $X$, we want to find a relationship (model) between $Y$ and $X$:\n",
    "- mathematical model:         $~~~ Y = f(X)$\n",
    "- statistical model:        $~~~ Y = f(X) + \\epsilon~~$ where $\\epsilon$ is a random variable. A model is statistical when the data ${y_i, x_i}$ has an element of uncertainty (e.g. due to measurement noise) which is described as $\\epsilon$.\n"
   ]
  },
  {
   "cell_type": "markdown",
   "metadata": {},
   "source": [
    "A widely used model is \n",
    "$$\n",
    "Y = \\beta_0 + \\beta_1 X + \\epsilon,\n",
    "$$\n",
    "\n",
    "where $\\beta_0$ and $\\beta_1$ are model parameters and $\\epsilon$ is normally distributed with $0$ mean and variance $\\sigma^2$. \n",
    "* If $X$ is a scalar, the model is known as *simple linear regression*.\n",
    "* If $X$ is a vector, the model is known as *multiple linear regression*.\n",
    "* If $Y$ is a vector, the model is known as *multivariate linear regression*.\n"
   ]
  },
  {
   "cell_type": "markdown",
   "metadata": {},
   "source": [
    "After we form the model, we construct the so-called design matrices $y$ and $X$ such that the regression problem can be written in matrix form:\n",
    "\n",
    "$$\n",
    "  y = X\\beta + \\epsilon,\n",
    "$$\n",
    "\n",
    "where $y$ is the vector(or matrix) of observations, $\\beta$ is a vector of coefficients and $\\epsilon$ is the residual(error)."
   ]
  },
  {
   "cell_type": "markdown",
   "metadata": {},
   "source": [
    "**Example:** \n",
    "\n",
    "Suppose the observed values are \n",
    "$$y = [1,2,3,4,5]$$\n",
    "and there are two independent variables with values \n",
    "$$x_1 = [6,7,8,9,10]$$\n",
    "and \n",
    "$$x_2 = [11,12,13,14,15]$$.  \n",
    "\n",
    "Assume we use the linear model \n",
    "$$~ Y = \\beta_0 + \\beta_1 X_1 + \\beta_2 X_2 + \\beta_3 X_1 X_2$$\n",
    "(Note: *linear* with respect to the $\\beta$ coefficents.) \n",
    "\n",
    "Therefore, the design matrix is \n",
    "$$X = [1, x_1, x_2, x_1x_2]$$.\n",
    "\n",
    "Here is Python/NumPy to implement this"
   ]
  },
  {
   "cell_type": "code",
   "execution_count": 6,
   "metadata": {},
   "outputs": [
    {
     "data": {
      "text/plain": [
       "array([[  1.,   6.,  11.,  66.],\n",
       "       [  1.,   7.,  12.,  84.],\n",
       "       [  1.,   8.,  13., 104.],\n",
       "       [  1.,   9.,  14., 126.],\n",
       "       [  1.,  10.,  15., 150.]])"
      ]
     },
     "execution_count": 6,
     "metadata": {},
     "output_type": "execute_result"
    }
   ],
   "source": [
    "y = np.array([1,2,3,4,5])\n",
    "x1 = np.array([6,7,8,9,10])\n",
    "x2 = np.array([11,12,13,14,15])\n",
    "X = np.vstack([np.ones(5),x1,x2,x1*x2]).T\n",
    "X"
   ]
  },
  {
   "cell_type": "markdown",
   "metadata": {},
   "source": [
    "Given $X$ and $y$, we can solve for $\\beta$ using least-squares method:"
   ]
  },
  {
   "cell_type": "code",
   "execution_count": 7,
   "metadata": {},
   "outputs": [],
   "source": [
    "beta, res, rank, svals = np.linalg.lstsq(X,y,rcond=None) #\n",
    "np.linalg.lstsq?"
   ]
  },
  {
   "cell_type": "code",
   "execution_count": 8,
   "metadata": {},
   "outputs": [
    {
     "name": "stdout",
     "output_type": "stream",
     "text": [
      "[-5.55555556e-01  1.88888889e+00 -8.88888889e-01 -8.88900666e-16]\n"
     ]
    }
   ],
   "source": [
    "print(beta)"
   ]
  },
  {
   "cell_type": "code",
   "execution_count": null,
   "metadata": {},
   "outputs": [],
   "source": []
  },
  {
   "cell_type": "markdown",
   "metadata": {},
   "source": [
    "In the above example, constructing the design matrix $X$ was fairly simple. However, it can be more difficult for more complicated models. \n",
    "\n",
    "The `Patsy` library provides a simple [formula language](https://patsy.readthedocs.io/en/latest/formulas.html#the-formula-language)  to handle this.\n",
    "\n",
    "First, we create a dictionary that maps the variable names to the corresponding data arrays:\n",
    "\n",
    "\\[This is very similar to how in Sympy we associated symbol names with Python variables.\\]"
   ]
  },
  {
   "cell_type": "code",
   "execution_count": 9,
   "metadata": {},
   "outputs": [
    {
     "name": "stdout",
     "output_type": "stream",
     "text": [
      "{'y': array([1, 2, 3, 4, 5]), 'x1': array([ 6,  7,  8,  9, 10]), 'x2': array([11, 12, 13, 14, 15])}\n"
     ]
    }
   ],
   "source": [
    "data = {\"y\":y, \"x1\":x1, \"x2\":x2}\n",
    "print(data)"
   ]
  },
  {
   "cell_type": "markdown",
   "metadata": {},
   "source": [
    "To use the model  \n",
    "$$~ Y = \\beta_0 + \\beta_1 X_1 + \\beta_2 X_2 + \\beta_3 X_1 X_2$$ \n",
    "with Patsy, we can use the formula `y ~ 1 + x1 + x2 + x1*x2` (leave out the coefficients).  \n",
    "\n",
    "From the formulata we can easily get the design matrices:"
   ]
  },
  {
   "cell_type": "code",
   "execution_count": 10,
   "metadata": {},
   "outputs": [],
   "source": [
    "y, X = patsy.dmatrices(\"y ~ 1 + x1 + x2 + x1*x2\")\n"
   ]
  },
  {
   "cell_type": "code",
   "execution_count": 11,
   "metadata": {},
   "outputs": [
    {
     "data": {
      "text/plain": [
       "DesignMatrix with shape (5, 1)\n",
       "  y\n",
       "  1\n",
       "  2\n",
       "  3\n",
       "  4\n",
       "  5\n",
       "  Terms:\n",
       "    'y' (column 0)"
      ]
     },
     "execution_count": 11,
     "metadata": {},
     "output_type": "execute_result"
    }
   ],
   "source": [
    "# Look at y and compare with input\n",
    "y"
   ]
  },
  {
   "cell_type": "code",
   "execution_count": 12,
   "metadata": {},
   "outputs": [
    {
     "data": {
      "text/plain": [
       "DesignMatrix with shape (5, 4)\n",
       "  Intercept  x1  x2  x1:x2\n",
       "          1   6  11     66\n",
       "          1   7  12     84\n",
       "          1   8  13    104\n",
       "          1   9  14    126\n",
       "          1  10  15    150\n",
       "  Terms:\n",
       "    'Intercept' (column 0)\n",
       "    'x1' (column 1)\n",
       "    'x2' (column 2)\n",
       "    'x1:x2' (column 3)"
      ]
     },
     "execution_count": 12,
     "metadata": {},
     "output_type": "execute_result"
    }
   ],
   "source": [
    "# Look at X and compare with manual construction\n",
    "X"
   ]
  },
  {
   "cell_type": "code",
   "execution_count": null,
   "metadata": {},
   "outputs": [],
   "source": []
  },
  {
   "cell_type": "markdown",
   "metadata": {},
   "source": [
    "We can also use the ordinary linear regression (OLS) class in the `statsmodels` library (instead of `np.linalg.lstsq`) to solve for the parameter vector:"
   ]
  },
  {
   "cell_type": "code",
   "execution_count": 13,
   "metadata": {},
   "outputs": [],
   "source": [
    "model = sm.OLS(y, X) # construct the model\n",
    "result = model.fit()"
   ]
  },
  {
   "cell_type": "code",
   "execution_count": 14,
   "metadata": {},
   "outputs": [
    {
     "data": {
      "text/plain": [
       "array([-5.55555556e-01,  1.88888889e+00, -8.88888889e-01, -1.11022302e-15])"
      ]
     },
     "execution_count": 14,
     "metadata": {},
     "output_type": "execute_result"
    }
   ],
   "source": [
    "#compare this with the answer from np.linalg.lstsq\n",
    "result.params"
   ]
  },
  {
   "cell_type": "markdown",
   "metadata": {},
   "source": [
    "We can skip the step of creating the design matrices by using the statmodels formula API (we imported it as `smf`) by the following:"
   ]
  },
  {
   "cell_type": "code",
   "execution_count": 15,
   "metadata": {},
   "outputs": [
    {
     "data": {
      "text/plain": [
       "Intercept   -5.555556e-01\n",
       "x1           1.888889e+00\n",
       "x2          -8.888889e-01\n",
       "x1:x2       -1.110223e-15\n",
       "dtype: float64"
      ]
     },
     "execution_count": 15,
     "metadata": {},
     "output_type": "execute_result"
    }
   ],
   "source": [
    "model = smf.ols(\"y ~ 1 + x1 + x2 + x1*x2\", data)\n",
    "rsult = model.fit()\n",
    "rsult.params"
   ]
  },
  {
   "cell_type": "code",
   "execution_count": 18,
   "metadata": {},
   "outputs": [
    {
     "data": {
      "text/plain": [
       "Intercept   -5.555556e-01\n",
       "x1           1.888889e+00\n",
       "x2          -8.888889e-01\n",
       "x1:x2       -1.110223e-15\n",
       "dtype: float64"
      ]
     },
     "execution_count": 18,
     "metadata": {},
     "output_type": "execute_result"
    }
   ],
   "source": [
    "df = pd.DataFrame(data)\n",
    "model = smf.ols(\"y ~ x1*x2\", df)\n",
    "rsult = model.fit()\n",
    "rsult.params"
   ]
  },
  {
   "cell_type": "markdown",
   "metadata": {},
   "source": [
    "This saves us time when we want to add and remove terms in the model. "
   ]
  },
  {
   "cell_type": "markdown",
   "metadata": {},
   "source": [
    "**Exercise:** Instead of using a Python dictionary, put `y`, `x1` and `x2` into a Pandas data frame, and solve using the `statsmodels` library."
   ]
  },
  {
   "cell_type": "code",
   "execution_count": null,
   "metadata": {
    "scrolled": true
   },
   "outputs": [],
   "source": [
    "#look at C01 or the Pandas doc for how to make a data frame from a dictionary with data\n"
   ]
  },
  {
   "cell_type": "markdown",
   "metadata": {},
   "source": [
    "### (Simplified) summary of the Patsy formula syntax\n",
    "\n",
    "|Syntax|Example| Description |\n",
    "|:-|:- |:---|\n",
    "|lhs ~ rhs|y ~ x <br>(equivalent to y ~ 1+x) |~ is used to separate LHS (dependent variables) and <br> RHS (independent variables) | \n",
    "|var$*$var| x1$*$x2 <br>(equivalent to 1+x1+x2+x1$*$x2) |An interaction term that implicitly contains all lower-order terms|\n",
    "|var + var| x1 + x2 <br>(equivalent to y ~ 1+x1+x2) |+ denotes the union of terms |\n",
    "|var - var| x1 - x2 <br> |- removes the following term |\n",
    "|var:var| x1:x2 |: denotes a pure interaction term (e.g. $x_1\\cdot x_2$)|\n",
    "\n",
    "For a complete syntax, see the Patsy [documentation](https://patsy.readthedocs.io/en/latest/)."
   ]
  },
  {
   "cell_type": "code",
   "execution_count": null,
   "metadata": {},
   "outputs": [],
   "source": [
    "# Repeat above to show we can just specify x1*x2 (look at the \n",
    "# design matrices as well as at the solution)"
   ]
  },
  {
   "cell_type": "code",
   "execution_count": null,
   "metadata": {},
   "outputs": [],
   "source": [
    "# x1 - x2 means I need x1 but exclude x2, not subtraction"
   ]
  },
  {
   "cell_type": "markdown",
   "metadata": {},
   "source": [
    "# Linear Regression\n",
    "**Basic workflow for analyzing a statistic model using statsmodels**:\n",
    "1. Create an instance of model class, for example, using `mod = sm.MODEL(y,X)` or `mod = smf.model(formula, data)` where `MODEL` and `model` are the names of a particular model (e.g. OLS, GLS, Logit, etc)\n",
    "2. Fit the model to the data:  `result = model.fit()`\n",
    "3. Print summary statistics for the result:  `result.summary()`\n",
    "4. Post-process the model fit results by methods and attributes `params`, `resid`, `fittedvalues`, `predict`\n",
    "5. Visualize the result by Matplotlib or `statsmodels.graphics` module.\n"
   ]
  },
  {
   "cell_type": "markdown",
   "metadata": {},
   "source": [
    "### Example (linear regression):\n",
    "Consider fitting a model to generated data whose true value is $ y = 1 + 2x_1 + 3x_2 + 4x_1 x_2$.\n",
    "\n",
    "* Sample 100 random data points in \\[-2,2\\] for our independent variables. \n",
    "* Put them into a data frame"
   ]
  },
  {
   "cell_type": "code",
   "execution_count": 19,
   "metadata": {},
   "outputs": [],
   "source": [
    "N = 100\n",
    "np.random.seed(128) # so we wll get the same values\n",
    "x1 = 4*(np.random.random(N)-0.5)\n",
    "x2 = 4*(np.random.random(N)-0.5)"
   ]
  },
  {
   "cell_type": "markdown",
   "metadata": {
    "collapsed": true
   },
   "source": [
    "Define a function to compute y_true and insert corresponding column of values into the data frame, then examine the frame"
   ]
  },
  {
   "cell_type": "code",
   "execution_count": 20,
   "metadata": {},
   "outputs": [
    {
     "data": {
      "text/html": [
       "<div>\n",
       "<style scoped>\n",
       "    .dataframe tbody tr th:only-of-type {\n",
       "        vertical-align: middle;\n",
       "    }\n",
       "\n",
       "    .dataframe tbody tr th {\n",
       "        vertical-align: top;\n",
       "    }\n",
       "\n",
       "    .dataframe thead th {\n",
       "        text-align: right;\n",
       "    }\n",
       "</style>\n",
       "<table border=\"1\" class=\"dataframe\">\n",
       "  <thead>\n",
       "    <tr style=\"text-align: right;\">\n",
       "      <th></th>\n",
       "      <th>y</th>\n",
       "      <th>x1</th>\n",
       "      <th>x2</th>\n",
       "    </tr>\n",
       "  </thead>\n",
       "  <tbody>\n",
       "    <tr>\n",
       "      <th>0</th>\n",
       "      <td>-3.713346</td>\n",
       "      <td>1.466548</td>\n",
       "      <td>-0.862427</td>\n",
       "    </tr>\n",
       "    <tr>\n",
       "      <th>1</th>\n",
       "      <td>-1.700133</td>\n",
       "      <td>-0.947421</td>\n",
       "      <td>1.019766</td>\n",
       "    </tr>\n",
       "    <tr>\n",
       "      <th>2</th>\n",
       "      <td>-5.471787</td>\n",
       "      <td>-1.474366</td>\n",
       "      <td>1.215910</td>\n",
       "    </tr>\n",
       "    <tr>\n",
       "      <th>3</th>\n",
       "      <td>1.887595</td>\n",
       "      <td>-1.833626</td>\n",
       "      <td>-1.050834</td>\n",
       "    </tr>\n",
       "    <tr>\n",
       "      <th>4</th>\n",
       "      <td>0.370654</td>\n",
       "      <td>-1.044303</td>\n",
       "      <td>-1.239591</td>\n",
       "    </tr>\n",
       "    <tr>\n",
       "      <th>...</th>\n",
       "      <td>...</td>\n",
       "      <td>...</td>\n",
       "      <td>...</td>\n",
       "    </tr>\n",
       "    <tr>\n",
       "      <th>95</th>\n",
       "      <td>-4.082885</td>\n",
       "      <td>1.407524</td>\n",
       "      <td>-0.915162</td>\n",
       "    </tr>\n",
       "    <tr>\n",
       "      <th>96</th>\n",
       "      <td>22.035355</td>\n",
       "      <td>1.926563</td>\n",
       "      <td>1.604878</td>\n",
       "    </tr>\n",
       "    <tr>\n",
       "      <th>97</th>\n",
       "      <td>12.028837</td>\n",
       "      <td>1.448662</td>\n",
       "      <td>0.924598</td>\n",
       "    </tr>\n",
       "    <tr>\n",
       "      <th>98</th>\n",
       "      <td>7.224447</td>\n",
       "      <td>1.479923</td>\n",
       "      <td>0.365999</td>\n",
       "    </tr>\n",
       "    <tr>\n",
       "      <th>99</th>\n",
       "      <td>-7.354924</td>\n",
       "      <td>0.406498</td>\n",
       "      <td>-1.981827</td>\n",
       "    </tr>\n",
       "  </tbody>\n",
       "</table>\n",
       "<p>100 rows × 3 columns</p>\n",
       "</div>"
      ],
      "text/plain": [
       "            y        x1        x2\n",
       "0   -3.713346  1.466548 -0.862427\n",
       "1   -1.700133 -0.947421  1.019766\n",
       "2   -5.471787 -1.474366  1.215910\n",
       "3    1.887595 -1.833626 -1.050834\n",
       "4    0.370654 -1.044303 -1.239591\n",
       "..        ...       ...       ...\n",
       "95  -4.082885  1.407524 -0.915162\n",
       "96  22.035355  1.926563  1.604878\n",
       "97  12.028837  1.448662  0.924598\n",
       "98   7.224447  1.479923  0.365999\n",
       "99  -7.354924  0.406498 -1.981827\n",
       "\n",
       "[100 rows x 3 columns]"
      ]
     },
     "execution_count": 20,
     "metadata": {},
     "output_type": "execute_result"
    }
   ],
   "source": [
    "def y_true(x1,x2):\n",
    "    return 1 + 2*x1 + 3*x2 + 4*x1*x2\n",
    "    \n",
    "y = y_true(x1,x2)\n",
    "df = pd.DataFrame({\"y\":y, \"x1\":x1, \"x2\":x2})\n",
    "df"
   ]
  },
  {
   "cell_type": "markdown",
   "metadata": {
    "collapsed": true
   },
   "source": [
    "Add normal-distributed noise to the true values and store the result in the \"y\" column of the data frame\n"
   ]
  },
  {
   "cell_type": "code",
   "execution_count": 22,
   "metadata": {},
   "outputs": [],
   "source": [
    "noise = 0.1*np.random.randn(N)\n",
    "df[\"y\"] += noise\n"
   ]
  },
  {
   "cell_type": "code",
   "execution_count": 23,
   "metadata": {},
   "outputs": [
    {
     "data": {
      "text/html": [
       "<div>\n",
       "<style scoped>\n",
       "    .dataframe tbody tr th:only-of-type {\n",
       "        vertical-align: middle;\n",
       "    }\n",
       "\n",
       "    .dataframe tbody tr th {\n",
       "        vertical-align: top;\n",
       "    }\n",
       "\n",
       "    .dataframe thead th {\n",
       "        text-align: right;\n",
       "    }\n",
       "</style>\n",
       "<table border=\"1\" class=\"dataframe\">\n",
       "  <thead>\n",
       "    <tr style=\"text-align: right;\">\n",
       "      <th></th>\n",
       "      <th>y</th>\n",
       "      <th>x1</th>\n",
       "      <th>x2</th>\n",
       "    </tr>\n",
       "  </thead>\n",
       "  <tbody>\n",
       "    <tr>\n",
       "      <th>0</th>\n",
       "      <td>-3.756773</td>\n",
       "      <td>1.466548</td>\n",
       "      <td>-0.862427</td>\n",
       "    </tr>\n",
       "    <tr>\n",
       "      <th>1</th>\n",
       "      <td>-1.637434</td>\n",
       "      <td>-0.947421</td>\n",
       "      <td>1.019766</td>\n",
       "    </tr>\n",
       "    <tr>\n",
       "      <th>2</th>\n",
       "      <td>-5.394656</td>\n",
       "      <td>-1.474366</td>\n",
       "      <td>1.215910</td>\n",
       "    </tr>\n",
       "    <tr>\n",
       "      <th>3</th>\n",
       "      <td>1.890642</td>\n",
       "      <td>-1.833626</td>\n",
       "      <td>-1.050834</td>\n",
       "    </tr>\n",
       "    <tr>\n",
       "      <th>4</th>\n",
       "      <td>0.395560</td>\n",
       "      <td>-1.044303</td>\n",
       "      <td>-1.239591</td>\n",
       "    </tr>\n",
       "  </tbody>\n",
       "</table>\n",
       "</div>"
      ],
      "text/plain": [
       "          y        x1        x2\n",
       "0 -3.756773  1.466548 -0.862427\n",
       "1 -1.637434 -0.947421  1.019766\n",
       "2 -5.394656 -1.474366  1.215910\n",
       "3  1.890642 -1.833626 -1.050834\n",
       "4  0.395560 -1.044303 -1.239591"
      ]
     },
     "execution_count": 23,
     "metadata": {},
     "output_type": "execute_result"
    }
   ],
   "source": [
    "df.head()"
   ]
  },
  {
   "cell_type": "code",
   "execution_count": null,
   "metadata": {},
   "outputs": [],
   "source": []
  },
  {
   "cell_type": "markdown",
   "metadata": {},
   "source": [
    "**1st model: $Y = \\beta_0 + \\beta_1 x_1 + \\beta_2 x_2$ \n",
    "\n",
    "**Question:** what is the simplest corresponding Patsy model?  Replace the `????` below with the model."
   ]
  },
  {
   "cell_type": "code",
   "execution_count": 25,
   "metadata": {},
   "outputs": [],
   "source": [
    "# Step1: Create an instance of model class (fit the model to the data using ordinary least square)\n",
    "model = smf.ols('y ~ x1+x2', df)\n"
   ]
  },
  {
   "cell_type": "code",
   "execution_count": 26,
   "metadata": {},
   "outputs": [],
   "source": [
    "# Step2: Fit the model to the data\n",
    "result = model.fit()"
   ]
  },
  {
   "cell_type": "code",
   "execution_count": 27,
   "metadata": {},
   "outputs": [
    {
     "name": "stdout",
     "output_type": "stream",
     "text": [
      "                            OLS Regression Results                            \n",
      "==============================================================================\n",
      "Dep. Variable:                      y   R-squared:                       0.441\n",
      "Model:                            OLS   Adj. R-squared:                  0.429\n",
      "Method:                 Least Squares   F-statistic:                     38.27\n",
      "Date:                Wed, 09 Mar 2022   Prob (F-statistic):           5.61e-13\n",
      "Time:                        11:11:54   Log-Likelihood:                -310.00\n",
      "No. Observations:                 100   AIC:                             626.0\n",
      "Df Residuals:                      97   BIC:                             633.8\n",
      "Df Model:                           2                                         \n",
      "Covariance Type:            nonrobust                                         \n",
      "==============================================================================\n",
      "                 coef    std err          t      P>|t|      [0.025      0.975]\n",
      "------------------------------------------------------------------------------\n",
      "Intercept      0.7810      0.557      1.403      0.164      -0.324       1.885\n",
      "x1             2.3067      0.481      4.791      0.000       1.351       3.262\n",
      "x2             3.5442      0.475      7.458      0.000       2.601       4.487\n",
      "==============================================================================\n",
      "Omnibus:                        1.284   Durbin-Watson:                   1.703\n",
      "Prob(Omnibus):                  0.526   Jarque-Bera (JB):                1.122\n",
      "Skew:                           0.259   Prob(JB):                        0.571\n",
      "Kurtosis:                       2.960   Cond. No.                         1.29\n",
      "==============================================================================\n",
      "\n",
      "Notes:\n",
      "[1] Standard Errors assume that the covariance matrix of the errors is correctly specified.\n"
     ]
    }
   ],
   "source": [
    "# Step3: Print summary statistics for the result\n",
    "print(result.summary())"
   ]
  },
  {
   "cell_type": "markdown",
   "metadata": {},
   "source": [
    "*What to look for:*\n",
    "- R-squared:  indicates how well the model fits the data. The value is between 0 and 1. The value 1 corresponds to a perfect fit.  \n",
    "- The `coef` column contains the model parameters. \n",
    "- *t-statistics*:   $t$ = coef/(std err).  The greater $|t|$, the more likely that the corresponding coefficient is non-zero (which means that it has a significant predictive power). [Recall: the greater $|t|$, the greater the evidence against the null hypothesis. Here the null hypothesis is that the coefficient is $0$.]\n",
    "- p-value:  small p-value (<0.05 ??) indicates that that coefficient is more likely to be non-zero.  [Recall: small p-value means strong evidence against the null hypothesis.]\n",
    "\n",
    "Summary:  R-squared close to 1 => good fit. $~~~$High $t$ or small $p$-value => that coef is far from $0$. "
   ]
  },
  {
   "cell_type": "code",
   "execution_count": 28,
   "metadata": {},
   "outputs": [
    {
     "data": {
      "text/plain": [
       "0.44102095292522514"
      ]
     },
     "execution_count": 28,
     "metadata": {},
     "output_type": "execute_result"
    }
   ],
   "source": [
    "# We can also get the R-squared directly:\n",
    "result.rsquared"
   ]
  },
  {
   "cell_type": "markdown",
   "metadata": {},
   "source": [
    "Note that by using ordinary least-square regression we assume that the residuals (of the fitted model and the data) is normally distributed.  Before analyzing data, we might not know if this condition is met. However, we can investigate this by using statistical tests (with null hypothesis that the residuals are normally distributed) and/or plotting the residual."
   ]
  },
  {
   "cell_type": "code",
   "execution_count": 29,
   "metadata": {},
   "outputs": [
    {
     "data": {
      "text/plain": [
       "0     -4.864006\n",
       "1     -3.847219\n",
       "2     -7.084110\n",
       "3      9.063611\n",
       "4      6.416794\n",
       "        ...    \n",
       "95    -4.897968\n",
       "96    10.995518\n",
       "97     4.672147\n",
       "98     1.529951\n",
       "99    -2.013437\n",
       "Length: 100, dtype: float64"
      ]
     },
     "execution_count": 29,
     "metadata": {},
     "output_type": "execute_result"
    }
   ],
   "source": [
    "# we can look at the residual \n",
    "result.resid"
   ]
  },
  {
   "cell_type": "code",
   "execution_count": 30,
   "metadata": {},
   "outputs": [
    {
     "data": {
      "text/plain": [
       "[<matplotlib.lines.Line2D at 0x214b1ab0dc0>]"
      ]
     },
     "execution_count": 30,
     "metadata": {},
     "output_type": "execute_result"
    },
    {
     "data": {
      "image/png": "[encoded data removed]",
      "text/plain": [
       "<Figure size 432x288 with 1 Axes>"
      ]
     },
     "metadata": {
      "needs_background": "light"
     },
     "output_type": "display_data"
    }
   ],
   "source": [
    "plt.plot(result.resid)"
   ]
  },
  {
   "cell_type": "code",
   "execution_count": 31,
   "metadata": {},
   "outputs": [
    {
     "name": "stdout",
     "output_type": "stream",
     "text": [
      "0.5263686046240125\n"
     ]
    }
   ],
   "source": [
    "# Check the normality of the residual\n",
    "z, p = stats.normaltest(result.resid.values)\n",
    "print(p)"
   ]
  },
  {
   "cell_type": "markdown",
   "metadata": {},
   "source": [
    "Here $p$-value is large => accept null hypothesis (i.e. the assummption that the residuals are normally-distributed is not correct). (Recall that we're considering our first model ($Y = \\beta_0 + \\beta_1 x_1 + \\beta_2 x_2$)\n"
   ]
  },
  {
   "cell_type": "markdown",
   "metadata": {},
   "source": [
    "We can also use a graphical method (`qqplot`) to check for normality. The [Q-Q plot](https://en.wikipedia.org/wiki/Q%E2%80%93Q_plot) compares the observed distribution of values between quantiles with that expected theoretically from the normal distribution. If the distribution is normal, you'll get the straight line $y = x$ (i.e., a line through the origin at 45 degrees assuming both axes are on the same scale).\n",
    "\n",
    "Note: I don't really like these plots since how straight is straight enough or how close to 45 degrees?\n"
   ]
  },
  {
   "cell_type": "code",
   "execution_count": null,
   "metadata": {},
   "outputs": [],
   "source": [
    "?smg.qqplot"
   ]
  },
  {
   "cell_type": "code",
   "execution_count": 32,
   "metadata": {},
   "outputs": [
    {
     "name": "stderr",
     "output_type": "stream",
     "text": [
      "D:\\Software\\Anaconda\\lib\\site-packages\\statsmodels\\graphics\\gofplots.py:993: UserWarning: marker is redundantly defined by the 'marker' keyword argument and the fmt string \"bo\" (-> marker='o'). The keyword argument will take precedence.\n",
      "  ax.plot(x, y, fmt, **plot_style)\n"
     ]
    },
    {
     "data": {
      "image/png": "[encoded data removed]",
      "text/plain": [
       "<Figure size 576x288 with 1 Axes>"
      ]
     },
     "metadata": {
      "needs_background": "light"
     },
     "output_type": "display_data"
    }
   ],
   "source": [
    "# Use the QQ graphical method to check for normality.\n",
    "fig, ax = plt.subplots(figsize=(8, 4))\n",
    "smg.qqplot(result.resid, ax=ax, fit=True, line=\"45\") # need fit to get scales of x and y to match\n",
    "fig.tight_layout()"
   ]
  },
  {
   "cell_type": "markdown",
   "metadata": {},
   "source": [
    "This is (a little) more evidence that the first model is not sufficient.  \n",
    "\n",
    "Let's add the interaction term:"
   ]
  },
  {
   "cell_type": "markdown",
   "metadata": {},
   "source": [
    "**2nd model: $Y = \\beta_0 + \\beta_1 x_1 + \\beta_2 x_2 + \\beta_3 x_1 x_2 $   **.  "
   ]
  },
  {
   "cell_type": "code",
   "execution_count": 34,
   "metadata": {
    "scrolled": true
   },
   "outputs": [
    {
     "data": {
      "text/html": [
       "<table class=\"simpletable\">\n",
       "<caption>OLS Regression Results</caption>\n",
       "<tr>\n",
       "  <th>Dep. Variable:</th>            <td>y</td>        <th>  R-squared:         </th> <td>   1.000</td> \n",
       "</tr>\n",
       "<tr>\n",
       "  <th>Model:</th>                   <td>OLS</td>       <th>  Adj. R-squared:    </th> <td>   1.000</td> \n",
       "</tr>\n",
       "<tr>\n",
       "  <th>Method:</th>             <td>Least Squares</td>  <th>  F-statistic:       </th> <td>8.984e+04</td>\n",
       "</tr>\n",
       "<tr>\n",
       "  <th>Date:</th>             <td>Wed, 09 Mar 2022</td> <th>  Prob (F-statistic):</th> <td>2.34e-165</td>\n",
       "</tr>\n",
       "<tr>\n",
       "  <th>Time:</th>                 <td>11:25:59</td>     <th>  Log-Likelihood:    </th> <td>  57.943</td> \n",
       "</tr>\n",
       "<tr>\n",
       "  <th>No. Observations:</th>      <td>   100</td>      <th>  AIC:               </th> <td>  -107.9</td> \n",
       "</tr>\n",
       "<tr>\n",
       "  <th>Df Residuals:</th>          <td>    96</td>      <th>  BIC:               </th> <td>  -97.47</td> \n",
       "</tr>\n",
       "<tr>\n",
       "  <th>Df Model:</th>              <td>     3</td>      <th>                     </th>     <td> </td>    \n",
       "</tr>\n",
       "<tr>\n",
       "  <th>Covariance Type:</th>      <td>nonrobust</td>    <th>                     </th>     <td> </td>    \n",
       "</tr>\n",
       "</table>\n",
       "<table class=\"simpletable\">\n",
       "<tr>\n",
       "      <td></td>         <th>coef</th>     <th>std err</th>      <th>t</th>      <th>P>|t|</th>  <th>[0.025</th>    <th>0.975]</th>  \n",
       "</tr>\n",
       "<tr>\n",
       "  <th>Intercept</th> <td>    0.9937</td> <td>    0.014</td> <td>   70.331</td> <td> 0.000</td> <td>    0.966</td> <td>    1.022</td>\n",
       "</tr>\n",
       "<tr>\n",
       "  <th>x1</th>        <td>    2.0132</td> <td>    0.012</td> <td>  164.497</td> <td> 0.000</td> <td>    1.989</td> <td>    2.037</td>\n",
       "</tr>\n",
       "<tr>\n",
       "  <th>x2</th>        <td>    3.0084</td> <td>    0.012</td> <td>  247.915</td> <td> 0.000</td> <td>    2.984</td> <td>    3.032</td>\n",
       "</tr>\n",
       "<tr>\n",
       "  <th>x1:x2</th>     <td>    3.9954</td> <td>    0.010</td> <td>  388.100</td> <td> 0.000</td> <td>    3.975</td> <td>    4.016</td>\n",
       "</tr>\n",
       "</table>\n",
       "<table class=\"simpletable\">\n",
       "<tr>\n",
       "  <th>Omnibus:</th>       <td> 6.435</td> <th>  Durbin-Watson:     </th> <td>   1.991</td>\n",
       "</tr>\n",
       "<tr>\n",
       "  <th>Prob(Omnibus):</th> <td> 0.040</td> <th>  Jarque-Bera (JB):  </th> <td>   9.826</td>\n",
       "</tr>\n",
       "<tr>\n",
       "  <th>Skew:</th>          <td>-0.176</td> <th>  Prob(JB):          </th> <td> 0.00735</td>\n",
       "</tr>\n",
       "<tr>\n",
       "  <th>Kurtosis:</th>      <td> 4.495</td> <th>  Cond. No.          </th> <td>    1.48</td>\n",
       "</tr>\n",
       "</table><br/><br/>Notes:<br/>[1] Standard Errors assume that the covariance matrix of the errors is correctly specified."
      ],
      "text/plain": [
       "<class 'statsmodels.iolib.summary.Summary'>\n",
       "\"\"\"\n",
       "                            OLS Regression Results                            \n",
       "==============================================================================\n",
       "Dep. Variable:                      y   R-squared:                       1.000\n",
       "Model:                            OLS   Adj. R-squared:                  1.000\n",
       "Method:                 Least Squares   F-statistic:                 8.984e+04\n",
       "Date:                Wed, 09 Mar 2022   Prob (F-statistic):          2.34e-165\n",
       "Time:                        11:25:59   Log-Likelihood:                 57.943\n",
       "No. Observations:                 100   AIC:                            -107.9\n",
       "Df Residuals:                      96   BIC:                            -97.47\n",
       "Df Model:                           3                                         \n",
       "Covariance Type:            nonrobust                                         \n",
       "==============================================================================\n",
       "                 coef    std err          t      P>|t|      [0.025      0.975]\n",
       "------------------------------------------------------------------------------\n",
       "Intercept      0.9937      0.014     70.331      0.000       0.966       1.022\n",
       "x1             2.0132      0.012    164.497      0.000       1.989       2.037\n",
       "x2             3.0084      0.012    247.915      0.000       2.984       3.032\n",
       "x1:x2          3.9954      0.010    388.100      0.000       3.975       4.016\n",
       "==============================================================================\n",
       "Omnibus:                        6.435   Durbin-Watson:                   1.991\n",
       "Prob(Omnibus):                  0.040   Jarque-Bera (JB):                9.826\n",
       "Skew:                          -0.176   Prob(JB):                      0.00735\n",
       "Kurtosis:                       4.495   Cond. No.                         1.48\n",
       "==============================================================================\n",
       "\n",
       "Notes:\n",
       "[1] Standard Errors assume that the covariance matrix of the errors is correctly specified.\n",
       "\"\"\""
      ]
     },
     "execution_count": 34,
     "metadata": {},
     "output_type": "execute_result"
    }
   ],
   "source": [
    "# Repeat the steps from the previous analysis (Steps 1-3)\n",
    "model = smf.ols(\"y ~ x1*x2\", df)\n",
    "result = model.fit()\n",
    "result.summary()"
   ]
  },
  {
   "cell_type": "markdown",
   "metadata": {},
   "source": [
    "The r-squared is very close to 1, indicating a nearly perfect fit.\n",
    "\n",
    "Then we look at the residuals and check if the residuals are normally distributed:"
   ]
  },
  {
   "cell_type": "code",
   "execution_count": 35,
   "metadata": {},
   "outputs": [
    {
     "data": {
      "text/plain": [
       "[<matplotlib.lines.Line2D at 0x214b1c55c10>]"
      ]
     },
     "execution_count": 35,
     "metadata": {},
     "output_type": "execute_result"
    },
    {
     "data": {
      "image/png": "[encoded data removed]",
      "text/plain": [
       "<Figure size 432x288 with 1 Axes>"
      ]
     },
     "metadata": {
      "needs_background": "light"
     },
     "output_type": "display_data"
    }
   ],
   "source": [
    "plt.plot(result.resid) # You'll see the residuals are much smaller"
   ]
  },
  {
   "cell_type": "code",
   "execution_count": 36,
   "metadata": {},
   "outputs": [
    {
     "data": {
      "text/plain": [
       "0.04005062053063751"
      ]
     },
     "execution_count": 36,
     "metadata": {},
     "output_type": "execute_result"
    }
   ],
   "source": [
    "#1. statisical test\n",
    "z, p = stats.normaltest(result.resid.values)\n",
    "p # we want this to be small"
   ]
  },
  {
   "cell_type": "code",
   "execution_count": 37,
   "metadata": {},
   "outputs": [
    {
     "name": "stderr",
     "output_type": "stream",
     "text": [
      "D:\\Software\\Anaconda\\lib\\site-packages\\statsmodels\\graphics\\gofplots.py:993: UserWarning: marker is redundantly defined by the 'marker' keyword argument and the fmt string \"bo\" (-> marker='o'). The keyword argument will take precedence.\n",
      "  ax.plot(x, y, fmt, **plot_style)\n"
     ]
    },
    {
     "data": {
      "image/png": "[encoded data removed]",
      "text/plain": [
       "<Figure size 576x288 with 1 Axes>"
      ]
     },
     "metadata": {
      "needs_background": "light"
     },
     "output_type": "display_data"
    }
   ],
   "source": [
    "#2. qq-plot \n",
    "fig, ax = plt.subplots(figsize=(8, 4))\n",
    "smg.qqplot(result.resid, ax=ax, fit=True, line=\"45\")\n",
    "\n",
    "fig.tight_layout()"
   ]
  },
  {
   "cell_type": "markdown",
   "metadata": {},
   "source": [
    "Repeat with 10000 points to see how the two QQ plots differ with more data.\n",
    "\n",
    "If we are happy with the fitted model, we can extract the model parameters:"
   ]
  },
  {
   "cell_type": "code",
   "execution_count": 38,
   "metadata": {},
   "outputs": [
    {
     "data": {
      "text/plain": [
       "Intercept    0.993673\n",
       "x1           2.013167\n",
       "x2           3.008375\n",
       "x1:x2        3.995357\n",
       "dtype: float64"
      ]
     },
     "execution_count": 38,
     "metadata": {},
     "output_type": "execute_result"
    }
   ],
   "source": [
    "result.params"
   ]
  },
  {
   "cell_type": "markdown",
   "metadata": {},
   "source": [
    "Given values of the indepedent variables ($x_1$, and $x_2$ in this case), we can use the `predict` method to get the prediction (the $y$ value).\n",
    "\n",
    "Compute the predictions on a 50x50 mesh between -2 and 2."
   ]
  },
  {
   "cell_type": "code",
   "execution_count": 39,
   "metadata": {},
   "outputs": [
    {
     "name": "stdout",
     "output_type": "stream",
     "text": [
      "[-2.         -1.91836735 -1.83673469 ...  1.83673469  1.91836735\n",
      "  2.        ]\n",
      "[-2. -2. -2. ...  2.  2.  2.]\n"
     ]
    }
   ],
   "source": [
    "x = np.linspace(-2,2,50)\n",
    "X1, X2 = np.meshgrid(x,x)\n",
    "X1 = X1.ravel()\n",
    "X2 = X2.ravel()\n",
    "print(X1)\n",
    "print(X2)\n"
   ]
  },
  {
   "cell_type": "code",
   "execution_count": 40,
   "metadata": {},
   "outputs": [
    {
     "data": {
      "text/plain": [
       "count    2500.000000\n",
       "mean        0.993673\n",
       "std         6.996134\n",
       "min       -16.978171\n",
       "25%        -2.910216\n",
       "50%        -0.186493\n",
       "75%         3.920296\n",
       "max        27.018185\n",
       "dtype: float64"
      ]
     },
     "execution_count": 40,
     "metadata": {},
     "output_type": "execute_result"
    }
   ],
   "source": [
    "newdata = pd.DataFrame({\"x1\":X1, \"x2\":X2})\n",
    "ynew = result.predict(newdata)\n",
    "ynew.describe()"
   ]
  },
  {
   "cell_type": "code",
   "execution_count": 41,
   "metadata": {},
   "outputs": [],
   "source": [
    "ynew = np.array(ynew)"
   ]
  },
  {
   "cell_type": "code",
   "execution_count": 42,
   "metadata": {},
   "outputs": [
    {
     "data": {
      "text/plain": [
       "(2500,)"
      ]
     },
     "execution_count": 42,
     "metadata": {},
     "output_type": "execute_result"
    }
   ],
   "source": [
    "# the result is a vector\n",
    "ynew.shape"
   ]
  },
  {
   "cell_type": "code",
   "execution_count": 43,
   "metadata": {},
   "outputs": [
    {
     "data": {
      "text/plain": [
       "(50, 50)"
      ]
     },
     "execution_count": 43,
     "metadata": {},
     "output_type": "execute_result"
    }
   ],
   "source": [
    "# so we must reshape it into a 50x50 grid/mesh/matrix\n",
    "ynew = ynew.reshape(50,50)\n",
    "ynew.shape"
   ]
  },
  {
   "cell_type": "code",
   "execution_count": 44,
   "metadata": {},
   "outputs": [],
   "source": [
    "# also reshape the X1 and X2 vectors to a square matrix\n",
    "X1 = X1.reshape(50,50)\n",
    "X2 = X2.reshape(50,50)"
   ]
  },
  {
   "cell_type": "code",
   "execution_count": 45,
   "metadata": {},
   "outputs": [
    {
     "data": {
      "image/png": "[encoded data removed]",
      "text/plain": [
       "<Figure size 864x360 with 4 Axes>"
      ]
     },
     "metadata": {
      "needs_background": "light"
     },
     "output_type": "display_data"
    }
   ],
   "source": [
    "# plot the true data and the fitted model\n",
    "fig, axes = plt.subplots(1, 2, figsize=(12, 5), sharey=True)\n",
    "\n",
    "def plot_y_contour(ax, Y, title):\n",
    "    c = ax.contourf(X1, X2, Y, 15, cmap=plt.cm.RdBu)\n",
    "    ax.set_xlabel(r\"$x_1$\", fontsize=20)\n",
    "    ax.set_ylabel(r\"$x_2$\", fontsize=20)\n",
    "    ax.set_title(title)\n",
    "    cb = fig.colorbar(c, ax=ax)\n",
    "    cb.set_label(r\"$y$\", fontsize=20)\n",
    "\n",
    "plot_y_contour(axes[0], y_true(X1, X2), \"true relation\")\n",
    "plot_y_contour(axes[1], ynew, \"fitted model\")\n",
    "\n",
    "fig.tight_layout()"
   ]
  },
  {
   "cell_type": "markdown",
   "metadata": {},
   "source": [
    "### Datasets from R\n",
    "The statmodels provides an interface to load data sets to explore.  See http://www.statsmodels.org/dev/datasets/index.html#available-datasets  for available data sets.\n",
    "\n",
    "As an example, we will load a dataset named \"Icecream\" from the package \"Ecdat\":"
   ]
  },
  {
   "cell_type": "code",
   "execution_count": 46,
   "metadata": {},
   "outputs": [],
   "source": [
    "dataset = sm.datasets.get_rdataset(\"Icecream\", \"Ecdat\")"
   ]
  },
  {
   "cell_type": "code",
   "execution_count": 47,
   "metadata": {},
   "outputs": [
    {
     "data": {
      "text/html": [
       "<div>\n",
       "<style scoped>\n",
       "    .dataframe tbody tr th:only-of-type {\n",
       "        vertical-align: middle;\n",
       "    }\n",
       "\n",
       "    .dataframe tbody tr th {\n",
       "        vertical-align: top;\n",
       "    }\n",
       "\n",
       "    .dataframe thead th {\n",
       "        text-align: right;\n",
       "    }\n",
       "</style>\n",
       "<table border=\"1\" class=\"dataframe\">\n",
       "  <thead>\n",
       "    <tr style=\"text-align: right;\">\n",
       "      <th></th>\n",
       "      <th>cons</th>\n",
       "      <th>income</th>\n",
       "      <th>price</th>\n",
       "      <th>temp</th>\n",
       "    </tr>\n",
       "  </thead>\n",
       "  <tbody>\n",
       "    <tr>\n",
       "      <th>0</th>\n",
       "      <td>0.386</td>\n",
       "      <td>78</td>\n",
       "      <td>0.270</td>\n",
       "      <td>41</td>\n",
       "    </tr>\n",
       "    <tr>\n",
       "      <th>1</th>\n",
       "      <td>0.374</td>\n",
       "      <td>79</td>\n",
       "      <td>0.282</td>\n",
       "      <td>56</td>\n",
       "    </tr>\n",
       "    <tr>\n",
       "      <th>2</th>\n",
       "      <td>0.393</td>\n",
       "      <td>81</td>\n",
       "      <td>0.277</td>\n",
       "      <td>63</td>\n",
       "    </tr>\n",
       "    <tr>\n",
       "      <th>3</th>\n",
       "      <td>0.425</td>\n",
       "      <td>80</td>\n",
       "      <td>0.280</td>\n",
       "      <td>68</td>\n",
       "    </tr>\n",
       "    <tr>\n",
       "      <th>4</th>\n",
       "      <td>0.406</td>\n",
       "      <td>76</td>\n",
       "      <td>0.272</td>\n",
       "      <td>69</td>\n",
       "    </tr>\n",
       "    <tr>\n",
       "      <th>5</th>\n",
       "      <td>0.344</td>\n",
       "      <td>78</td>\n",
       "      <td>0.262</td>\n",
       "      <td>65</td>\n",
       "    </tr>\n",
       "    <tr>\n",
       "      <th>6</th>\n",
       "      <td>0.327</td>\n",
       "      <td>82</td>\n",
       "      <td>0.275</td>\n",
       "      <td>61</td>\n",
       "    </tr>\n",
       "    <tr>\n",
       "      <th>7</th>\n",
       "      <td>0.288</td>\n",
       "      <td>79</td>\n",
       "      <td>0.267</td>\n",
       "      <td>47</td>\n",
       "    </tr>\n",
       "    <tr>\n",
       "      <th>8</th>\n",
       "      <td>0.269</td>\n",
       "      <td>76</td>\n",
       "      <td>0.265</td>\n",
       "      <td>32</td>\n",
       "    </tr>\n",
       "    <tr>\n",
       "      <th>9</th>\n",
       "      <td>0.256</td>\n",
       "      <td>79</td>\n",
       "      <td>0.277</td>\n",
       "      <td>24</td>\n",
       "    </tr>\n",
       "    <tr>\n",
       "      <th>10</th>\n",
       "      <td>0.286</td>\n",
       "      <td>82</td>\n",
       "      <td>0.282</td>\n",
       "      <td>28</td>\n",
       "    </tr>\n",
       "    <tr>\n",
       "      <th>11</th>\n",
       "      <td>0.298</td>\n",
       "      <td>85</td>\n",
       "      <td>0.270</td>\n",
       "      <td>26</td>\n",
       "    </tr>\n",
       "    <tr>\n",
       "      <th>12</th>\n",
       "      <td>0.329</td>\n",
       "      <td>86</td>\n",
       "      <td>0.272</td>\n",
       "      <td>32</td>\n",
       "    </tr>\n",
       "    <tr>\n",
       "      <th>13</th>\n",
       "      <td>0.318</td>\n",
       "      <td>83</td>\n",
       "      <td>0.287</td>\n",
       "      <td>40</td>\n",
       "    </tr>\n",
       "    <tr>\n",
       "      <th>14</th>\n",
       "      <td>0.381</td>\n",
       "      <td>84</td>\n",
       "      <td>0.277</td>\n",
       "      <td>55</td>\n",
       "    </tr>\n",
       "    <tr>\n",
       "      <th>15</th>\n",
       "      <td>0.381</td>\n",
       "      <td>82</td>\n",
       "      <td>0.287</td>\n",
       "      <td>63</td>\n",
       "    </tr>\n",
       "    <tr>\n",
       "      <th>16</th>\n",
       "      <td>0.470</td>\n",
       "      <td>80</td>\n",
       "      <td>0.280</td>\n",
       "      <td>72</td>\n",
       "    </tr>\n",
       "    <tr>\n",
       "      <th>17</th>\n",
       "      <td>0.443</td>\n",
       "      <td>78</td>\n",
       "      <td>0.277</td>\n",
       "      <td>72</td>\n",
       "    </tr>\n",
       "    <tr>\n",
       "      <th>18</th>\n",
       "      <td>0.386</td>\n",
       "      <td>84</td>\n",
       "      <td>0.277</td>\n",
       "      <td>67</td>\n",
       "    </tr>\n",
       "    <tr>\n",
       "      <th>19</th>\n",
       "      <td>0.342</td>\n",
       "      <td>86</td>\n",
       "      <td>0.277</td>\n",
       "      <td>60</td>\n",
       "    </tr>\n",
       "    <tr>\n",
       "      <th>20</th>\n",
       "      <td>0.319</td>\n",
       "      <td>85</td>\n",
       "      <td>0.292</td>\n",
       "      <td>44</td>\n",
       "    </tr>\n",
       "    <tr>\n",
       "      <th>21</th>\n",
       "      <td>0.307</td>\n",
       "      <td>87</td>\n",
       "      <td>0.287</td>\n",
       "      <td>40</td>\n",
       "    </tr>\n",
       "    <tr>\n",
       "      <th>22</th>\n",
       "      <td>0.284</td>\n",
       "      <td>94</td>\n",
       "      <td>0.277</td>\n",
       "      <td>32</td>\n",
       "    </tr>\n",
       "    <tr>\n",
       "      <th>23</th>\n",
       "      <td>0.326</td>\n",
       "      <td>92</td>\n",
       "      <td>0.285</td>\n",
       "      <td>27</td>\n",
       "    </tr>\n",
       "    <tr>\n",
       "      <th>24</th>\n",
       "      <td>0.309</td>\n",
       "      <td>95</td>\n",
       "      <td>0.282</td>\n",
       "      <td>28</td>\n",
       "    </tr>\n",
       "    <tr>\n",
       "      <th>25</th>\n",
       "      <td>0.359</td>\n",
       "      <td>96</td>\n",
       "      <td>0.265</td>\n",
       "      <td>33</td>\n",
       "    </tr>\n",
       "    <tr>\n",
       "      <th>26</th>\n",
       "      <td>0.376</td>\n",
       "      <td>94</td>\n",
       "      <td>0.265</td>\n",
       "      <td>41</td>\n",
       "    </tr>\n",
       "    <tr>\n",
       "      <th>27</th>\n",
       "      <td>0.416</td>\n",
       "      <td>96</td>\n",
       "      <td>0.265</td>\n",
       "      <td>52</td>\n",
       "    </tr>\n",
       "    <tr>\n",
       "      <th>28</th>\n",
       "      <td>0.437</td>\n",
       "      <td>91</td>\n",
       "      <td>0.268</td>\n",
       "      <td>64</td>\n",
       "    </tr>\n",
       "    <tr>\n",
       "      <th>29</th>\n",
       "      <td>0.548</td>\n",
       "      <td>90</td>\n",
       "      <td>0.260</td>\n",
       "      <td>71</td>\n",
       "    </tr>\n",
       "  </tbody>\n",
       "</table>\n",
       "</div>"
      ],
      "text/plain": [
       "     cons  income  price  temp\n",
       "0   0.386      78  0.270    41\n",
       "1   0.374      79  0.282    56\n",
       "2   0.393      81  0.277    63\n",
       "3   0.425      80  0.280    68\n",
       "4   0.406      76  0.272    69\n",
       "5   0.344      78  0.262    65\n",
       "6   0.327      82  0.275    61\n",
       "7   0.288      79  0.267    47\n",
       "8   0.269      76  0.265    32\n",
       "9   0.256      79  0.277    24\n",
       "10  0.286      82  0.282    28\n",
       "11  0.298      85  0.270    26\n",
       "12  0.329      86  0.272    32\n",
       "13  0.318      83  0.287    40\n",
       "14  0.381      84  0.277    55\n",
       "15  0.381      82  0.287    63\n",
       "16  0.470      80  0.280    72\n",
       "17  0.443      78  0.277    72\n",
       "18  0.386      84  0.277    67\n",
       "19  0.342      86  0.277    60\n",
       "20  0.319      85  0.292    44\n",
       "21  0.307      87  0.287    40\n",
       "22  0.284      94  0.277    32\n",
       "23  0.326      92  0.285    27\n",
       "24  0.309      95  0.282    28\n",
       "25  0.359      96  0.265    33\n",
       "26  0.376      94  0.265    41\n",
       "27  0.416      96  0.265    52\n",
       "28  0.437      91  0.268    64\n",
       "29  0.548      90  0.260    71"
      ]
     },
     "execution_count": 47,
     "metadata": {},
     "output_type": "execute_result"
    }
   ],
   "source": [
    "dataset.data"
   ]
  },
  {
   "cell_type": "code",
   "execution_count": 48,
   "metadata": {
    "scrolled": true
   },
   "outputs": [
    {
     "data": {
      "text/plain": [
       "0     41\n",
       "1     56\n",
       "2     63\n",
       "3     68\n",
       "4     69\n",
       "5     65\n",
       "6     61\n",
       "7     47\n",
       "8     32\n",
       "9     24\n",
       "10    28\n",
       "11    26\n",
       "12    32\n",
       "13    40\n",
       "14    55\n",
       "15    63\n",
       "16    72\n",
       "17    72\n",
       "18    67\n",
       "19    60\n",
       "20    44\n",
       "21    40\n",
       "22    32\n",
       "23    27\n",
       "24    28\n",
       "25    33\n",
       "26    41\n",
       "27    52\n",
       "28    64\n",
       "29    71\n",
       "Name: temp, dtype: int64"
      ]
     },
     "execution_count": 48,
     "metadata": {},
     "output_type": "execute_result"
    }
   ],
   "source": [
    "dataset.data.temp"
   ]
  },
  {
   "cell_type": "markdown",
   "metadata": {},
   "source": [
    "We see that this dataset has 4 variables: cons(consumption), income, price, and temp. \n",
    "\n",
    "**Exercise:** Model the consumption as a linear model with price and temperature as indepdent variables without an intercept/constant term (i.e., forcing the intercept to be zero):"
   ]
  },
  {
   "cell_type": "code",
   "execution_count": 57,
   "metadata": {},
   "outputs": [
    {
     "data": {
      "text/html": [
       "<table class=\"simpletable\">\n",
       "<caption>OLS Regression Results</caption>\n",
       "<tr>\n",
       "  <th>Dep. Variable:</th>          <td>cons</td>       <th>  R-squared (uncentered):</th>      <td>   0.991</td>\n",
       "</tr>\n",
       "<tr>\n",
       "  <th>Model:</th>                   <td>OLS</td>       <th>  Adj. R-squared (uncentered):</th> <td>   0.990</td>\n",
       "</tr>\n",
       "<tr>\n",
       "  <th>Method:</th>             <td>Least Squares</td>  <th>  F-statistic:       </th>          <td>   991.4</td>\n",
       "</tr>\n",
       "<tr>\n",
       "  <th>Date:</th>             <td>Wed, 09 Mar 2022</td> <th>  Prob (F-statistic):</th>          <td>1.02e-27</td>\n",
       "</tr>\n",
       "<tr>\n",
       "  <th>Time:</th>                 <td>11:41:13</td>     <th>  Log-Likelihood:    </th>          <td>  58.315</td>\n",
       "</tr>\n",
       "<tr>\n",
       "  <th>No. Observations:</th>      <td>    30</td>      <th>  AIC:               </th>          <td>  -110.6</td>\n",
       "</tr>\n",
       "<tr>\n",
       "  <th>Df Residuals:</th>          <td>    27</td>      <th>  BIC:               </th>          <td>  -106.4</td>\n",
       "</tr>\n",
       "<tr>\n",
       "  <th>Df Model:</th>              <td>     3</td>      <th>                     </th>              <td> </td>   \n",
       "</tr>\n",
       "<tr>\n",
       "  <th>Covariance Type:</th>      <td>nonrobust</td>    <th>                     </th>              <td> </td>   \n",
       "</tr>\n",
       "</table>\n",
       "<table class=\"simpletable\">\n",
       "<tr>\n",
       "     <td></td>       <th>coef</th>     <th>std err</th>      <th>t</th>      <th>P>|t|</th>  <th>[0.025</th>    <th>0.975]</th>  \n",
       "</tr>\n",
       "<tr>\n",
       "  <th>income</th> <td>    0.0038</td> <td>    0.001</td> <td>    3.795</td> <td> 0.001</td> <td>    0.002</td> <td>    0.006</td>\n",
       "</tr>\n",
       "<tr>\n",
       "  <th>temp</th>   <td>    0.0036</td> <td>    0.000</td> <td>    8.573</td> <td> 0.000</td> <td>    0.003</td> <td>    0.004</td>\n",
       "</tr>\n",
       "<tr>\n",
       "  <th>price</th>  <td>   -0.4851</td> <td>    0.328</td> <td>   -1.479</td> <td> 0.151</td> <td>   -1.158</td> <td>    0.188</td>\n",
       "</tr>\n",
       "</table>\n",
       "<table class=\"simpletable\">\n",
       "<tr>\n",
       "  <th>Omnibus:</th>       <td> 1.121</td> <th>  Durbin-Watson:     </th> <td>   1.034</td>\n",
       "</tr>\n",
       "<tr>\n",
       "  <th>Prob(Omnibus):</th> <td> 0.571</td> <th>  Jarque-Bera (JB):  </th> <td>   0.356</td>\n",
       "</tr>\n",
       "<tr>\n",
       "  <th>Skew:</th>          <td> 0.219</td> <th>  Prob(JB):          </th> <td>   0.837</td>\n",
       "</tr>\n",
       "<tr>\n",
       "  <th>Kurtosis:</th>      <td> 3.304</td> <th>  Cond. No.          </th> <td>4.83e+03</td>\n",
       "</tr>\n",
       "</table><br/><br/>Notes:<br/>[1] R² is computed without centering (uncentered) since the model does not contain a constant.<br/>[2] Standard Errors assume that the covariance matrix of the errors is correctly specified.<br/>[3] The condition number is large, 4.83e+03. This might indicate that there are<br/>strong multicollinearity or other numerical problems."
      ],
      "text/plain": [
       "<class 'statsmodels.iolib.summary.Summary'>\n",
       "\"\"\"\n",
       "                                 OLS Regression Results                                \n",
       "=======================================================================================\n",
       "Dep. Variable:                   cons   R-squared (uncentered):                   0.991\n",
       "Model:                            OLS   Adj. R-squared (uncentered):              0.990\n",
       "Method:                 Least Squares   F-statistic:                              991.4\n",
       "Date:                Wed, 09 Mar 2022   Prob (F-statistic):                    1.02e-27\n",
       "Time:                        11:41:13   Log-Likelihood:                          58.315\n",
       "No. Observations:                  30   AIC:                                     -110.6\n",
       "Df Residuals:                      27   BIC:                                     -106.4\n",
       "Df Model:                           3                                                  \n",
       "Covariance Type:            nonrobust                                                  \n",
       "==============================================================================\n",
       "                 coef    std err          t      P>|t|      [0.025      0.975]\n",
       "------------------------------------------------------------------------------\n",
       "income         0.0038      0.001      3.795      0.001       0.002       0.006\n",
       "temp           0.0036      0.000      8.573      0.000       0.003       0.004\n",
       "price         -0.4851      0.328     -1.479      0.151      -1.158       0.188\n",
       "==============================================================================\n",
       "Omnibus:                        1.121   Durbin-Watson:                   1.034\n",
       "Prob(Omnibus):                  0.571   Jarque-Bera (JB):                0.356\n",
       "Skew:                           0.219   Prob(JB):                        0.837\n",
       "Kurtosis:                       3.304   Cond. No.                     4.83e+03\n",
       "==============================================================================\n",
       "\n",
       "Notes:\n",
       "[1] R² is computed without centering (uncentered) since the model does not contain a constant.\n",
       "[2] Standard Errors assume that the covariance matrix of the errors is correctly specified.\n",
       "[3] The condition number is large, 4.83e+03. This might indicate that there are\n",
       "strong multicollinearity or other numerical problems.\n",
       "\"\"\""
      ]
     },
     "execution_count": 57,
     "metadata": {},
     "output_type": "execute_result"
    }
   ],
   "source": [
    "model = smf.ols(\"cons ~ income+temp+price -1\", dataset.data) # -1 remove intercept\n",
    "result = model.fit()\n",
    "result.summary()\n"
   ]
  },
  {
   "cell_type": "code",
   "execution_count": 62,
   "metadata": {},
   "outputs": [
    {
     "data": {
      "image/png": "[encoded data removed]",
      "text/plain": [
       "<Figure size 864x288 with 3 Axes>"
      ]
     },
     "metadata": {
      "needs_background": "light"
     },
     "output_type": "display_data"
    }
   ],
   "source": [
    "# Graphical tools like plot_fit (regression plot) can give a quick look at our fitted model\n",
    "fig, (ax1, ax2, ax3) = plt.subplots(1, 3, figsize=(12, 4))\n",
    "\n",
    "smg.plot_fit(result, 0, ax=ax1)\n",
    "smg.plot_fit(result, 1, ax=ax2)\n",
    "smg.plot_fit(result, 2, ax=ax3)\n",
    "\n",
    "fig.tight_layout()"
   ]
  },
  {
   "cell_type": "markdown",
   "metadata": {},
   "source": [
    "The consumption seems linearly correlated to the temp but doesn't seem so on the price (it's perhaps because the price range is quite small). "
   ]
  },
  {
   "cell_type": "markdown",
   "metadata": {
    "collapsed": true
   },
   "source": [
    "## References: \n",
    "- *Numerical Python: A Practical Techniques Approach for Industry*  by Robert Johansson (Chapter 14)"
   ]
  },
  {
   "cell_type": "code",
   "execution_count": null,
   "metadata": {},
   "outputs": [],
   "source": []
  }
 ],
 "metadata": {
  "kernelspec": {
   "display_name": "Python 3 (ipykernel)",
   "language": "python",
   "name": "python3"
  },
  "language_info": {
   "codemirror_mode": {
    "name": "ipython",
    "version": 3
   },
   "file_extension": ".py",
   "mimetype": "text/x-python",
   "name": "python",
   "nbconvert_exporter": "python",
   "pygments_lexer": "ipython3",
   "version": "3.9.7"
  }
 },
 "nbformat": 4,
 "nbformat_minor": 2
}
